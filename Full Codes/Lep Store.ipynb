{
 "cells": [
  {
   "cell_type": "markdown",
   "id": "57cb2f58",
   "metadata": {},
   "source": [
    "## Scrape data from Lep website"
   ]
  },
  {
   "cell_type": "code",
   "execution_count": 1,
   "id": "4b983800",
   "metadata": {},
   "outputs": [],
   "source": [
    "from selenium import webdriver\n",
    "from selenium.webdriver.common.by import By\n",
    "from selenium.webdriver.support.ui import WebDriverWait\n",
    "from selenium.webdriver.support import expected_conditions as EC\n",
    "from selenium.common.exceptions import TimeoutException\n",
    "from selenium.webdriver.chrome.service import Service\n",
    "from selenium.webdriver.chrome.options import Options\n",
    "from seleniumwire import webdriver as wire_webdriver\n",
    "from selenium.common.exceptions import NoSuchElementException, ElementNotInteractableException, ElementClickInterceptedException\n",
    "\n",
    "import pandas as pd\n",
    "import time\n",
    "from datetime import datetime, date\n",
    "import dbm"
   ]
  },
  {
   "cell_type": "code",
   "execution_count": 2,
   "id": "bb17c69b",
   "metadata": {},
   "outputs": [],
   "source": [
    "# Declare browser service\n",
    "s = Service('C://Users//hantt3//chromedriver_win32//chromedriver.exe')\n",
    "\n",
    "# Configure Chrome options\n",
    "options = Options()\n",
    "options.add_argument('--ignore-ssl-errors=yes')\n",
    "options.add_argument('--ignore-certificate-errors')\n",
    "\n",
    "# Create the webdriver instance\n",
    "driver = wire_webdriver.Chrome(service=s, options=options)\n"
   ]
  },
  {
   "cell_type": "code",
   "execution_count": 21,
   "id": "7f961368",
   "metadata": {},
   "outputs": [
    {
     "name": "stdout",
     "output_type": "stream",
     "text": [
      "Clicked on button next page!\n",
      "Clicked on button next page!\n",
      "Clicked on button next page!\n",
      "Clicked on button next page!\n",
      "Clicked on button next page!\n",
      "Clicked on button next page!\n",
      "Clicked on button next page!\n",
      "Clicked on button next page!\n"
     ]
    }
   ],
   "source": [
    "def lepProductInfo(link):\n",
    "    '''The lepProductInfo function accepts a link parameter and \n",
    "    is responsible for scraping product information from the specified URL.'''\n",
    "    driver.get(link) #opening the URL using the web driver\n",
    "    count = 1 \n",
    "    product_name, price = [], []\n",
    "    \n",
    "    while True: #while loop continues until explicitly broken\n",
    "        try:\n",
    "            names = driver.find_elements(By.CSS_SELECTOR, '.item_info-left__2V7dL .item_title__2r6lQ')\n",
    "            product_name += [s.text for s in names]\n",
    "            \n",
    "            prices = driver.find_elements(By.CSS_SELECTOR, '.item_sale-price__3bTSG')\n",
    "            price += [s.text for s in prices]\n",
    "            \n",
    "            next_pagination = driver.find_element(By.CSS_SELECTOR, '.pagniation_btn-next__3_ivR') #locates the next page button \n",
    "            \n",
    "            # Check if the next page button is disabled\n",
    "            if \"disabled\" in next_pagination.get_attribute(\"class\"):\n",
    "                break  # Exit the loop if the button is disabled\n",
    "                \n",
    "            next_pagination.click()\n",
    "            print(\"Clicked on button next page!\")\n",
    "            time.sleep(5)\n",
    "            count += 1\n",
    "            if count ==9:\n",
    "                break\n",
    "        except ElementClickInterceptedException:\n",
    "            print(\"ElementClickInterceptedException!\")\n",
    "            break\n",
    "    \n",
    "    lep_data = pd.DataFrame(list(zip(product_name, price)), columns=['product_title', 'price']) \n",
    "    return lep_data\n",
    "\n",
    "url = 'https://lep.vn/category/dam-i.104?'\n",
    "df = lepProductInfo(url)"
   ]
  },
  {
   "cell_type": "code",
   "execution_count": 22,
   "id": "a1482be4",
   "metadata": {},
   "outputs": [
    {
     "data": {
      "text/html": [
       "<div>\n",
       "<style scoped>\n",
       "    .dataframe tbody tr th:only-of-type {\n",
       "        vertical-align: middle;\n",
       "    }\n",
       "\n",
       "    .dataframe tbody tr th {\n",
       "        vertical-align: top;\n",
       "    }\n",
       "\n",
       "    .dataframe thead th {\n",
       "        text-align: right;\n",
       "    }\n",
       "</style>\n",
       "<table border=\"1\" class=\"dataframe\">\n",
       "  <thead>\n",
       "    <tr style=\"text-align: right;\">\n",
       "      <th></th>\n",
       "      <th>product_title</th>\n",
       "      <th>price</th>\n",
       "    </tr>\n",
       "  </thead>\n",
       "  <tbody>\n",
       "    <tr>\n",
       "      <th>155</th>\n",
       "      <td>Áo khoác dạ dáng lửng 1AK047DE</td>\n",
       "      <td>1.250.000 đ</td>\n",
       "    </tr>\n",
       "    <tr>\n",
       "      <th>156</th>\n",
       "      <td>Váy 2 dây ngực nhún 1VA02071XT</td>\n",
       "      <td>750.000 đ</td>\n",
       "    </tr>\n",
       "    <tr>\n",
       "      <th>157</th>\n",
       "      <td>Váy nhún chân bèo 3VA1314BE</td>\n",
       "      <td>795.000 đ</td>\n",
       "    </tr>\n",
       "    <tr>\n",
       "      <th>158</th>\n",
       "      <td>Set blazer tulip1VA2173HO</td>\n",
       "      <td>1.150.000 đ</td>\n",
       "    </tr>\n",
       "    <tr>\n",
       "      <th>159</th>\n",
       "      <td>Mira Dress 6VA251HO</td>\n",
       "      <td>750.000 đ</td>\n",
       "    </tr>\n",
       "  </tbody>\n",
       "</table>\n",
       "</div>"
      ],
      "text/plain": [
       "                      product_title        price\n",
       "155  Áo khoác dạ dáng lửng 1AK047DE  1.250.000 đ\n",
       "156  Váy 2 dây ngực nhún 1VA02071XT    750.000 đ\n",
       "157     Váy nhún chân bèo 3VA1314BE    795.000 đ\n",
       "158       Set blazer tulip1VA2173HO  1.150.000 đ\n",
       "159             Mira Dress 6VA251HO    750.000 đ"
      ]
     },
     "execution_count": 22,
     "metadata": {},
     "output_type": "execute_result"
    }
   ],
   "source": [
    "df.tail()"
   ]
  },
  {
   "cell_type": "markdown",
   "id": "932e56c9",
   "metadata": {},
   "source": [
    "From the product title, we can extract its title and product ID which will act as the primary key for the products table Let's extract. "
   ]
  },
  {
   "cell_type": "code",
   "execution_count": 23,
   "id": "a9c2fa30",
   "metadata": {},
   "outputs": [],
   "source": [
    "#Using str.extract() with regular expressions matches and extracts sequences of uppercase letters and digits at least 6 characters long\n",
    "df['product_id'] = df['product_title'].str.extract(r'([A-Z0-9]{6,})') "
   ]
  },
  {
   "cell_type": "code",
   "execution_count": 24,
   "id": "5e669c34",
   "metadata": {},
   "outputs": [
    {
     "data": {
      "text/html": [
       "<div>\n",
       "<style scoped>\n",
       "    .dataframe tbody tr th:only-of-type {\n",
       "        vertical-align: middle;\n",
       "    }\n",
       "\n",
       "    .dataframe tbody tr th {\n",
       "        vertical-align: top;\n",
       "    }\n",
       "\n",
       "    .dataframe thead th {\n",
       "        text-align: right;\n",
       "    }\n",
       "</style>\n",
       "<table border=\"1\" class=\"dataframe\">\n",
       "  <thead>\n",
       "    <tr style=\"text-align: right;\">\n",
       "      <th></th>\n",
       "      <th>product_title</th>\n",
       "      <th>price</th>\n",
       "      <th>product_id</th>\n",
       "    </tr>\n",
       "  </thead>\n",
       "  <tbody>\n",
       "    <tr>\n",
       "      <th>0</th>\n",
       "      <td>Váy nhún ngực xẻ đùi 1VA02010XL</td>\n",
       "      <td>750.000 đ</td>\n",
       "      <td>1VA02010XL</td>\n",
       "    </tr>\n",
       "    <tr>\n",
       "      <th>1</th>\n",
       "      <td>Váy wrap bút chì 1VA02002XL</td>\n",
       "      <td>695.000 đ</td>\n",
       "      <td>1VA02002XL</td>\n",
       "    </tr>\n",
       "    <tr>\n",
       "      <th>2</th>\n",
       "      <td>Váycổ vuông hở bụng 1VA02050XL</td>\n",
       "      <td>695.000 đ</td>\n",
       "      <td>1VA02050XL</td>\n",
       "    </tr>\n",
       "    <tr>\n",
       "      <th>3</th>\n",
       "      <td>váy hoa nhí cúc trai 1VA01811BE</td>\n",
       "      <td>795.000 đ</td>\n",
       "      <td>1VA01811BE</td>\n",
       "    </tr>\n",
       "    <tr>\n",
       "      <th>4</th>\n",
       "      <td>Áo yếm bèo xòe 1AO0178CA</td>\n",
       "      <td>495.000 đ</td>\n",
       "      <td>1AO0178CA</td>\n",
       "    </tr>\n",
       "  </tbody>\n",
       "</table>\n",
       "</div>"
      ],
      "text/plain": [
       "                     product_title      price  product_id\n",
       "0  Váy nhún ngực xẻ đùi 1VA02010XL  750.000 đ  1VA02010XL\n",
       "1      Váy wrap bút chì 1VA02002XL  695.000 đ  1VA02002XL\n",
       "2   Váycổ vuông hở bụng 1VA02050XL  695.000 đ  1VA02050XL\n",
       "3  váy hoa nhí cúc trai 1VA01811BE  795.000 đ  1VA01811BE\n",
       "4         Áo yếm bèo xòe 1AO0178CA  495.000 đ   1AO0178CA"
      ]
     },
     "execution_count": 24,
     "metadata": {},
     "output_type": "execute_result"
    }
   ],
   "source": [
    "df.head()"
   ]
  },
  {
   "cell_type": "code",
   "execution_count": 25,
   "id": "1c2da288",
   "metadata": {},
   "outputs": [],
   "source": [
    "# removes any non-numeric characters and retains the decimal point\n",
    "df['price'] = df['price'].str.replace(r'[^0-9.]', '', regex=True)\n",
    "#  removes the remaining thousands separators \n",
    "df['price'] = df['price'].str.replace(r'\\.', '', regex=True).astype(float)"
   ]
  },
  {
   "cell_type": "code",
   "execution_count": 26,
   "id": "c570d4bf",
   "metadata": {},
   "outputs": [
    {
     "data": {
      "text/html": [
       "<div>\n",
       "<style scoped>\n",
       "    .dataframe tbody tr th:only-of-type {\n",
       "        vertical-align: middle;\n",
       "    }\n",
       "\n",
       "    .dataframe tbody tr th {\n",
       "        vertical-align: top;\n",
       "    }\n",
       "\n",
       "    .dataframe thead th {\n",
       "        text-align: right;\n",
       "    }\n",
       "</style>\n",
       "<table border=\"1\" class=\"dataframe\">\n",
       "  <thead>\n",
       "    <tr style=\"text-align: right;\">\n",
       "      <th></th>\n",
       "      <th>product_title</th>\n",
       "      <th>price</th>\n",
       "      <th>product_id</th>\n",
       "    </tr>\n",
       "  </thead>\n",
       "  <tbody>\n",
       "    <tr>\n",
       "      <th>0</th>\n",
       "      <td>Váy nhún ngực xẻ đùi 1VA02010XL</td>\n",
       "      <td>750000.0</td>\n",
       "      <td>1VA02010XL</td>\n",
       "    </tr>\n",
       "    <tr>\n",
       "      <th>1</th>\n",
       "      <td>Váy wrap bút chì 1VA02002XL</td>\n",
       "      <td>695000.0</td>\n",
       "      <td>1VA02002XL</td>\n",
       "    </tr>\n",
       "    <tr>\n",
       "      <th>2</th>\n",
       "      <td>Váycổ vuông hở bụng 1VA02050XL</td>\n",
       "      <td>695000.0</td>\n",
       "      <td>1VA02050XL</td>\n",
       "    </tr>\n",
       "    <tr>\n",
       "      <th>3</th>\n",
       "      <td>váy hoa nhí cúc trai 1VA01811BE</td>\n",
       "      <td>795000.0</td>\n",
       "      <td>1VA01811BE</td>\n",
       "    </tr>\n",
       "    <tr>\n",
       "      <th>4</th>\n",
       "      <td>Áo yếm bèo xòe 1AO0178CA</td>\n",
       "      <td>495000.0</td>\n",
       "      <td>1AO0178CA</td>\n",
       "    </tr>\n",
       "  </tbody>\n",
       "</table>\n",
       "</div>"
      ],
      "text/plain": [
       "                     product_title     price  product_id\n",
       "0  Váy nhún ngực xẻ đùi 1VA02010XL  750000.0  1VA02010XL\n",
       "1      Váy wrap bút chì 1VA02002XL  695000.0  1VA02002XL\n",
       "2   Váycổ vuông hở bụng 1VA02050XL  695000.0  1VA02050XL\n",
       "3  váy hoa nhí cúc trai 1VA01811BE  795000.0  1VA01811BE\n",
       "4         Áo yếm bèo xòe 1AO0178CA  495000.0   1AO0178CA"
      ]
     },
     "execution_count": 26,
     "metadata": {},
     "output_type": "execute_result"
    }
   ],
   "source": [
    "df.head()"
   ]
  },
  {
   "cell_type": "code",
   "execution_count": 27,
   "id": "93dfec6d",
   "metadata": {},
   "outputs": [],
   "source": [
    "#Check the uniqueness of the column product_id cause it will be the primary key of the table product in database."
   ]
  },
  {
   "cell_type": "code",
   "execution_count": 28,
   "id": "2c167d8d",
   "metadata": {},
   "outputs": [
    {
     "data": {
      "text/plain": [
       "5"
      ]
     },
     "execution_count": 28,
     "metadata": {},
     "output_type": "execute_result"
    }
   ],
   "source": [
    "df['product_id'].duplicated().sum()"
   ]
  },
  {
   "cell_type": "code",
   "execution_count": 29,
   "id": "8965410b",
   "metadata": {},
   "outputs": [],
   "source": [
    "#Keep only the unique values in 'product_id' and drop duplicate rows\n",
    "df_unique = df.drop_duplicates(subset='product_id')"
   ]
  },
  {
   "cell_type": "code",
   "execution_count": 30,
   "id": "c93592ec",
   "metadata": {},
   "outputs": [
    {
     "data": {
      "text/plain": [
       "0"
      ]
     },
     "execution_count": 30,
     "metadata": {},
     "output_type": "execute_result"
    }
   ],
   "source": [
    "df_unique['product_id'].duplicated().sum()"
   ]
  },
  {
   "cell_type": "code",
   "execution_count": 31,
   "id": "78f54f13",
   "metadata": {},
   "outputs": [
    {
     "data": {
      "text/plain": [
       "155"
      ]
     },
     "execution_count": 31,
     "metadata": {},
     "output_type": "execute_result"
    }
   ],
   "source": [
    "len(df_unique)"
   ]
  },
  {
   "cell_type": "code",
   "execution_count": 36,
   "id": "b6278de4",
   "metadata": {},
   "outputs": [
    {
     "data": {
      "text/plain": [
       "pandas.core.frame.DataFrame"
      ]
     },
     "execution_count": 36,
     "metadata": {},
     "output_type": "execute_result"
    }
   ],
   "source": [
    "type(df_unique)"
   ]
  },
  {
   "cell_type": "code",
   "execution_count": 37,
   "id": "c46eafae",
   "metadata": {},
   "outputs": [
    {
     "data": {
      "text/html": [
       "<div>\n",
       "<style scoped>\n",
       "    .dataframe tbody tr th:only-of-type {\n",
       "        vertical-align: middle;\n",
       "    }\n",
       "\n",
       "    .dataframe tbody tr th {\n",
       "        vertical-align: top;\n",
       "    }\n",
       "\n",
       "    .dataframe thead th {\n",
       "        text-align: right;\n",
       "    }\n",
       "</style>\n",
       "<table border=\"1\" class=\"dataframe\">\n",
       "  <thead>\n",
       "    <tr style=\"text-align: right;\">\n",
       "      <th></th>\n",
       "      <th>product_title</th>\n",
       "      <th>price</th>\n",
       "      <th>product_id</th>\n",
       "    </tr>\n",
       "  </thead>\n",
       "  <tbody>\n",
       "    <tr>\n",
       "      <th>0</th>\n",
       "      <td>Váy nhún ngực xẻ đùi 1VA02010XL</td>\n",
       "      <td>750000.0</td>\n",
       "      <td>1VA02010XL</td>\n",
       "    </tr>\n",
       "    <tr>\n",
       "      <th>1</th>\n",
       "      <td>Váy wrap bút chì 1VA02002XL</td>\n",
       "      <td>695000.0</td>\n",
       "      <td>1VA02002XL</td>\n",
       "    </tr>\n",
       "    <tr>\n",
       "      <th>2</th>\n",
       "      <td>Váycổ vuông hở bụng 1VA02050XL</td>\n",
       "      <td>695000.0</td>\n",
       "      <td>1VA02050XL</td>\n",
       "    </tr>\n",
       "    <tr>\n",
       "      <th>3</th>\n",
       "      <td>váy hoa nhí cúc trai 1VA01811BE</td>\n",
       "      <td>795000.0</td>\n",
       "      <td>1VA01811BE</td>\n",
       "    </tr>\n",
       "    <tr>\n",
       "      <th>4</th>\n",
       "      <td>Áo yếm bèo xòe 1AO0178CA</td>\n",
       "      <td>495000.0</td>\n",
       "      <td>1AO0178CA</td>\n",
       "    </tr>\n",
       "  </tbody>\n",
       "</table>\n",
       "</div>"
      ],
      "text/plain": [
       "                     product_title     price  product_id\n",
       "0  Váy nhún ngực xẻ đùi 1VA02010XL  750000.0  1VA02010XL\n",
       "1      Váy wrap bút chì 1VA02002XL  695000.0  1VA02002XL\n",
       "2   Váycổ vuông hở bụng 1VA02050XL  695000.0  1VA02050XL\n",
       "3  váy hoa nhí cúc trai 1VA01811BE  795000.0  1VA01811BE\n",
       "4         Áo yếm bèo xòe 1AO0178CA  495000.0   1AO0178CA"
      ]
     },
     "execution_count": 37,
     "metadata": {},
     "output_type": "execute_result"
    }
   ],
   "source": [
    "df_unique.head()"
   ]
  },
  {
   "cell_type": "code",
   "execution_count": 40,
   "id": "73a58ab3",
   "metadata": {},
   "outputs": [
    {
     "name": "stdout",
     "output_type": "stream",
     "text": [
      "155\n"
     ]
    }
   ],
   "source": [
    "print(len(df_unique.index))"
   ]
  },
  {
   "cell_type": "code",
   "execution_count": 41,
   "id": "12d9e4fe",
   "metadata": {},
   "outputs": [],
   "source": [
    "df_unique = df_unique.reset_index(drop=True)"
   ]
  },
  {
   "cell_type": "code",
   "execution_count": 46,
   "id": "eeddfa51",
   "metadata": {},
   "outputs": [],
   "source": [
    "df_unique.to_csv('lep_product.csv') #save it as a csv file for future use"
   ]
  },
  {
   "cell_type": "markdown",
   "id": "07a67c74",
   "metadata": {},
   "source": [
    "## Generate data"
   ]
  },
  {
   "cell_type": "markdown",
   "id": "e60ac09e",
   "metadata": {},
   "source": [
    "Use Python to generate random data about employees, customers, payments."
   ]
  },
  {
   "cell_type": "code",
   "execution_count": 15,
   "id": "33258cf3",
   "metadata": {},
   "outputs": [],
   "source": [
    "import numpy as np\n",
    "from faker import Faker\n",
    "import pandas as pd\n",
    "import random"
   ]
  },
  {
   "cell_type": "code",
   "execution_count": 16,
   "id": "2924555c",
   "metadata": {},
   "outputs": [],
   "source": [
    "\n",
    "# Create Faker object\n",
    "fake = Faker()\n",
    "\n",
    "# Set random seed for reproducibility\n",
    "random.seed(123)\n",
    "\n",
    "# Generate random employee data\n",
    "employee_data = []\n",
    "for i in range(200):\n",
    "    employee_id = fake.unique.random_number(digits=6)\n",
    "    first_name = fake.first_name()\n",
    "    last_name = fake.last_name()\n",
    "    full_name = f\"{first_name} {last_name}\"\n",
    "    birthday = fake.date_of_birth(minimum_age=18, maximum_age=50)\n",
    "    email = f\"{first_name.lower()}{last_name.lower()[0]}@gmail.com\"\n",
    "    phone_number = fake.phone_number()\n",
    "    gender = random.choice(['Male', 'Female'])\n",
    "    department = random.choice(['IT', 'Sale', 'Finance', 'HR'])\n",
    "    marital_status = random.choice(['Single', 'Married'])\n",
    "    salary = random.randint(30000, 100000)\n",
    "    hire_date = fake.date_between(start_date='-3y', end_date='today')\n",
    "    \n",
    "    employee_data.append((employee_id, first_name, last_name, full_name, birthday, email, phone_number, gender, department,\n",
    "                          marital_status, salary, hire_date))\n",
    "\n",
    "# Create DataFrame\n",
    "columns = ['employee_id', 'first_name', 'last_name', 'full_name', 'birthday', 'email', 'employee_phone_number', 'gender', 'department',\n",
    "         'marital_status', 'salary', 'hire_date']\n",
    "employee = pd.DataFrame(employee_data, columns=columns)\n"
   ]
  },
  {
   "cell_type": "code",
   "execution_count": 17,
   "id": "d9ddf069",
   "metadata": {},
   "outputs": [
    {
     "data": {
      "text/html": [
       "<div>\n",
       "<style scoped>\n",
       "    .dataframe tbody tr th:only-of-type {\n",
       "        vertical-align: middle;\n",
       "    }\n",
       "\n",
       "    .dataframe tbody tr th {\n",
       "        vertical-align: top;\n",
       "    }\n",
       "\n",
       "    .dataframe thead th {\n",
       "        text-align: right;\n",
       "    }\n",
       "</style>\n",
       "<table border=\"1\" class=\"dataframe\">\n",
       "  <thead>\n",
       "    <tr style=\"text-align: right;\">\n",
       "      <th></th>\n",
       "      <th>employee_id</th>\n",
       "      <th>first_name</th>\n",
       "      <th>last_name</th>\n",
       "      <th>full_name</th>\n",
       "      <th>birthday</th>\n",
       "      <th>email</th>\n",
       "      <th>employee_phone_number</th>\n",
       "      <th>gender</th>\n",
       "      <th>department</th>\n",
       "      <th>marital_status</th>\n",
       "      <th>salary</th>\n",
       "      <th>hire_date</th>\n",
       "    </tr>\n",
       "  </thead>\n",
       "  <tbody>\n",
       "    <tr>\n",
       "      <th>0</th>\n",
       "      <td>560826</td>\n",
       "      <td>Cathy</td>\n",
       "      <td>Webb</td>\n",
       "      <td>Cathy Webb</td>\n",
       "      <td>1993-05-10</td>\n",
       "      <td>cathyw@gmail.com</td>\n",
       "      <td>001-714-489-0170x7510</td>\n",
       "      <td>Male</td>\n",
       "      <td>Finance</td>\n",
       "      <td>Single</td>\n",
       "      <td>83377</td>\n",
       "      <td>2020-09-17</td>\n",
       "    </tr>\n",
       "    <tr>\n",
       "      <th>1</th>\n",
       "      <td>646855</td>\n",
       "      <td>Isabella</td>\n",
       "      <td>Valenzuela</td>\n",
       "      <td>Isabella Valenzuela</td>\n",
       "      <td>1982-12-16</td>\n",
       "      <td>isabellav@gmail.com</td>\n",
       "      <td>(690)730-4104x5519</td>\n",
       "      <td>Female</td>\n",
       "      <td>IT</td>\n",
       "      <td>Single</td>\n",
       "      <td>79692</td>\n",
       "      <td>2023-04-28</td>\n",
       "    </tr>\n",
       "    <tr>\n",
       "      <th>2</th>\n",
       "      <td>832469</td>\n",
       "      <td>Margaret</td>\n",
       "      <td>Dennis</td>\n",
       "      <td>Margaret Dennis</td>\n",
       "      <td>1980-07-21</td>\n",
       "      <td>margaretd@gmail.com</td>\n",
       "      <td>(597)862-0752x72930</td>\n",
       "      <td>Female</td>\n",
       "      <td>Finance</td>\n",
       "      <td>Single</td>\n",
       "      <td>50927</td>\n",
       "      <td>2021-12-06</td>\n",
       "    </tr>\n",
       "    <tr>\n",
       "      <th>3</th>\n",
       "      <td>298776</td>\n",
       "      <td>William</td>\n",
       "      <td>Graham</td>\n",
       "      <td>William Graham</td>\n",
       "      <td>1991-08-10</td>\n",
       "      <td>williamg@gmail.com</td>\n",
       "      <td>(226)371-9683x9613</td>\n",
       "      <td>Male</td>\n",
       "      <td>Finance</td>\n",
       "      <td>Married</td>\n",
       "      <td>62134</td>\n",
       "      <td>2021-08-31</td>\n",
       "    </tr>\n",
       "    <tr>\n",
       "      <th>4</th>\n",
       "      <td>68629</td>\n",
       "      <td>Mark</td>\n",
       "      <td>Wood</td>\n",
       "      <td>Mark Wood</td>\n",
       "      <td>1973-11-24</td>\n",
       "      <td>markw@gmail.com</td>\n",
       "      <td>384-599-2390x497</td>\n",
       "      <td>Male</td>\n",
       "      <td>IT</td>\n",
       "      <td>Married</td>\n",
       "      <td>41483</td>\n",
       "      <td>2021-06-02</td>\n",
       "    </tr>\n",
       "  </tbody>\n",
       "</table>\n",
       "</div>"
      ],
      "text/plain": [
       "   employee_id first_name   last_name            full_name    birthday  \\\n",
       "0       560826      Cathy        Webb           Cathy Webb  1993-05-10   \n",
       "1       646855   Isabella  Valenzuela  Isabella Valenzuela  1982-12-16   \n",
       "2       832469   Margaret      Dennis      Margaret Dennis  1980-07-21   \n",
       "3       298776    William      Graham       William Graham  1991-08-10   \n",
       "4        68629       Mark        Wood            Mark Wood  1973-11-24   \n",
       "\n",
       "                 email  employee_phone_number  gender department  \\\n",
       "0     cathyw@gmail.com  001-714-489-0170x7510    Male    Finance   \n",
       "1  isabellav@gmail.com     (690)730-4104x5519  Female         IT   \n",
       "2  margaretd@gmail.com    (597)862-0752x72930  Female    Finance   \n",
       "3   williamg@gmail.com     (226)371-9683x9613    Male    Finance   \n",
       "4      markw@gmail.com       384-599-2390x497    Male         IT   \n",
       "\n",
       "  marital_status  salary   hire_date  \n",
       "0         Single   83377  2020-09-17  \n",
       "1         Single   79692  2023-04-28  \n",
       "2         Single   50927  2021-12-06  \n",
       "3        Married   62134  2021-08-31  \n",
       "4        Married   41483  2021-06-02  "
      ]
     },
     "execution_count": 17,
     "metadata": {},
     "output_type": "execute_result"
    }
   ],
   "source": [
    "employee.head()"
   ]
  },
  {
   "cell_type": "code",
   "execution_count": 43,
   "id": "3eacf039",
   "metadata": {},
   "outputs": [],
   "source": [
    "employee.to_csv('lep_employee.csv')"
   ]
  },
  {
   "cell_type": "markdown",
   "id": "02f856db",
   "metadata": {},
   "source": [
    "## Generating Customer Data"
   ]
  },
  {
   "cell_type": "code",
   "execution_count": 18,
   "id": "5edcf21e",
   "metadata": {},
   "outputs": [],
   "source": [
    "\n",
    "from faker import Faker\n",
    "import random\n",
    "import pandas as pd\n",
    "\n",
    "# Create Faker object\n",
    "fake = Faker()\n",
    "\n",
    "# Set random seed for reproducibility\n",
    "random.seed(123)\n",
    "\n",
    "# Generate random customer data\n",
    "customer_data = []\n",
    "for i in range(1000):\n",
    "    customer_id = fake.unique.random_number(digits=7)\n",
    "    first_name = fake.first_name()\n",
    "    last_name = fake.last_name()\n",
    "    full_name = f\"{first_name} {last_name}\"\n",
    "    birthday = fake.date_of_birth(minimum_age=18, maximum_age=80)\n",
    "    email = f\"{first_name.lower()}{last_name.lower()[0]}@gmail.com\"\n",
    "    gender = random.choice(['Male', 'Female'])\n",
    "    country = fake.country()\n",
    "    city = fake.city()\n",
    "    street = fake.street_address()\n",
    "    \n",
    "    customer_data.append((customer_id, first_name, last_name, full_name, birthday, email, gender, country, city, street))\n",
    "\n",
    "# Create DataFrame\n",
    "columns = ['customer_id', 'first_name', 'last_name', 'full_name', 'birthday', 'email', 'gender', 'country', 'city', 'street']\n",
    "customer = pd.DataFrame(customer_data, columns=columns)"
   ]
  },
  {
   "cell_type": "code",
   "execution_count": 19,
   "id": "951c9b98",
   "metadata": {},
   "outputs": [
    {
     "data": {
      "text/html": [
       "<div>\n",
       "<style scoped>\n",
       "    .dataframe tbody tr th:only-of-type {\n",
       "        vertical-align: middle;\n",
       "    }\n",
       "\n",
       "    .dataframe tbody tr th {\n",
       "        vertical-align: top;\n",
       "    }\n",
       "\n",
       "    .dataframe thead th {\n",
       "        text-align: right;\n",
       "    }\n",
       "</style>\n",
       "<table border=\"1\" class=\"dataframe\">\n",
       "  <thead>\n",
       "    <tr style=\"text-align: right;\">\n",
       "      <th></th>\n",
       "      <th>customer_id</th>\n",
       "      <th>first_name</th>\n",
       "      <th>last_name</th>\n",
       "      <th>full_name</th>\n",
       "      <th>birthday</th>\n",
       "      <th>email</th>\n",
       "      <th>gender</th>\n",
       "      <th>country</th>\n",
       "      <th>city</th>\n",
       "      <th>street</th>\n",
       "    </tr>\n",
       "  </thead>\n",
       "  <tbody>\n",
       "    <tr>\n",
       "      <th>0</th>\n",
       "      <td>8837775</td>\n",
       "      <td>Adrian</td>\n",
       "      <td>Woods</td>\n",
       "      <td>Adrian Woods</td>\n",
       "      <td>1992-12-24</td>\n",
       "      <td>adrianw@gmail.com</td>\n",
       "      <td>Male</td>\n",
       "      <td>Lesotho</td>\n",
       "      <td>Josephbury</td>\n",
       "      <td>9559 Rodriguez Haven Apt. 014</td>\n",
       "    </tr>\n",
       "    <tr>\n",
       "      <th>1</th>\n",
       "      <td>8345899</td>\n",
       "      <td>Kristen</td>\n",
       "      <td>Patrick</td>\n",
       "      <td>Kristen Patrick</td>\n",
       "      <td>1970-04-09</td>\n",
       "      <td>kristenp@gmail.com</td>\n",
       "      <td>Female</td>\n",
       "      <td>Italy</td>\n",
       "      <td>West Angelaside</td>\n",
       "      <td>2779 David Knoll Suite 911</td>\n",
       "    </tr>\n",
       "    <tr>\n",
       "      <th>2</th>\n",
       "      <td>3762240</td>\n",
       "      <td>David</td>\n",
       "      <td>Murphy</td>\n",
       "      <td>David Murphy</td>\n",
       "      <td>1959-05-19</td>\n",
       "      <td>davidm@gmail.com</td>\n",
       "      <td>Male</td>\n",
       "      <td>Portugal</td>\n",
       "      <td>Laurenfort</td>\n",
       "      <td>899 Curtis Station</td>\n",
       "    </tr>\n",
       "    <tr>\n",
       "      <th>3</th>\n",
       "      <td>2547658</td>\n",
       "      <td>Charles</td>\n",
       "      <td>Brown</td>\n",
       "      <td>Charles Brown</td>\n",
       "      <td>1998-02-27</td>\n",
       "      <td>charlesb@gmail.com</td>\n",
       "      <td>Female</td>\n",
       "      <td>Botswana</td>\n",
       "      <td>South Huntermouth</td>\n",
       "      <td>523 Mathew Road</td>\n",
       "    </tr>\n",
       "    <tr>\n",
       "      <th>4</th>\n",
       "      <td>5324229</td>\n",
       "      <td>Kelsey</td>\n",
       "      <td>Knight</td>\n",
       "      <td>Kelsey Knight</td>\n",
       "      <td>1961-02-03</td>\n",
       "      <td>kelseyk@gmail.com</td>\n",
       "      <td>Female</td>\n",
       "      <td>Niger</td>\n",
       "      <td>North Latoyachester</td>\n",
       "      <td>711 Bianca Drives</td>\n",
       "    </tr>\n",
       "  </tbody>\n",
       "</table>\n",
       "</div>"
      ],
      "text/plain": [
       "   customer_id first_name last_name        full_name    birthday  \\\n",
       "0      8837775     Adrian     Woods     Adrian Woods  1992-12-24   \n",
       "1      8345899    Kristen   Patrick  Kristen Patrick  1970-04-09   \n",
       "2      3762240      David    Murphy     David Murphy  1959-05-19   \n",
       "3      2547658    Charles     Brown    Charles Brown  1998-02-27   \n",
       "4      5324229     Kelsey    Knight    Kelsey Knight  1961-02-03   \n",
       "\n",
       "                email  gender   country                 city  \\\n",
       "0   adrianw@gmail.com    Male   Lesotho           Josephbury   \n",
       "1  kristenp@gmail.com  Female     Italy      West Angelaside   \n",
       "2    davidm@gmail.com    Male  Portugal           Laurenfort   \n",
       "3  charlesb@gmail.com  Female  Botswana    South Huntermouth   \n",
       "4   kelseyk@gmail.com  Female     Niger  North Latoyachester   \n",
       "\n",
       "                          street  \n",
       "0  9559 Rodriguez Haven Apt. 014  \n",
       "1     2779 David Knoll Suite 911  \n",
       "2             899 Curtis Station  \n",
       "3                523 Mathew Road  \n",
       "4              711 Bianca Drives  "
      ]
     },
     "execution_count": 19,
     "metadata": {},
     "output_type": "execute_result"
    }
   ],
   "source": [
    "customer.head()"
   ]
  },
  {
   "cell_type": "code",
   "execution_count": 44,
   "id": "4276a182",
   "metadata": {},
   "outputs": [],
   "source": [
    "customer.to_csv('lep_customer.csv')"
   ]
  },
  {
   "cell_type": "markdown",
   "id": "e0f8c4b1",
   "metadata": {},
   "source": [
    "##  Generating Payments Data"
   ]
  },
  {
   "cell_type": "code",
   "execution_count": 42,
   "id": "f7f2076e",
   "metadata": {},
   "outputs": [],
   "source": [
    "import random\n",
    "import pandas as pd\n",
    "from faker import Faker\n",
    "\n",
    "# Set random seed for reproducibility\n",
    "random.seed(123)\n",
    "\n",
    "# Create Faker object\n",
    "fake = Faker()\n",
    "\n",
    "# Generate random payment data\n",
    "payment_data = []\n",
    "for i in range(2000):\n",
    "    payment_id = fake.unique.random_number(digits=9)\n",
    "    payment_date = fake.date_between(start_date='-3y', end_date='today')\n",
    "    customer_id = random.choice(customer['customer_id'])\n",
    "    employee_id = random.choice(employee['employee_id'])\n",
    "    product_id = random.choice(df_unique['product_id'])\n",
    "    \n",
    "    payment_data.append((payment_id, payment_date, customer_id, employee_id, product_id))\n",
    "\n",
    "# Create DataFrame\n",
    "columns = ['payment_id', 'payment_date', 'customer_id', 'employee_id', 'product_id']\n",
    "payment = pd.DataFrame(payment_data, columns=columns)\n"
   ]
  },
  {
   "cell_type": "code",
   "execution_count": 45,
   "id": "bfe0513e",
   "metadata": {},
   "outputs": [],
   "source": [
    "payment.to_csv(\"lep_payment.csv\")"
   ]
  },
  {
   "cell_type": "markdown",
   "id": "3bf49daa",
   "metadata": {},
   "source": [
    "## Manipulate data"
   ]
  },
  {
   "cell_type": "code",
   "execution_count": 3,
   "id": "09b421bd",
   "metadata": {},
   "outputs": [],
   "source": [
    "import numpy as np\n",
    "import pandas as pd\n",
    "\n",
    "import pandasql as ps\n",
    "\n",
    "def sql(query):\n",
    "    return ps.sqldf(query)"
   ]
  },
  {
   "cell_type": "code",
   "execution_count": 2,
   "id": "1ee2d4a9",
   "metadata": {},
   "outputs": [
    {
     "name": "stdout",
     "output_type": "stream",
     "text": [
      "Collecting pandasql\n",
      "  Downloading pandasql-0.7.3.tar.gz (26 kB)\n",
      "  Preparing metadata (setup.py): started\n",
      "  Preparing metadata (setup.py): finished with status 'done'\n",
      "Requirement already satisfied: numpy in c:\\users\\hantt3\\appdata\\local\\anaconda3\\lib\\site-packages (from pandasql) (1.23.5)\n",
      "Requirement already satisfied: pandas in c:\\users\\hantt3\\appdata\\local\\anaconda3\\lib\\site-packages (from pandasql) (1.5.3)\n",
      "Requirement already satisfied: sqlalchemy in c:\\users\\hantt3\\appdata\\local\\anaconda3\\lib\\site-packages (from pandasql) (1.4.39)\n",
      "Requirement already satisfied: python-dateutil>=2.8.1 in c:\\users\\hantt3\\appdata\\local\\anaconda3\\lib\\site-packages (from pandas->pandasql) (2.8.2)\n",
      "Requirement already satisfied: pytz>=2020.1 in c:\\users\\hantt3\\appdata\\local\\anaconda3\\lib\\site-packages (from pandas->pandasql) (2022.7)\n",
      "Requirement already satisfied: greenlet!=0.4.17 in c:\\users\\hantt3\\appdata\\local\\anaconda3\\lib\\site-packages (from sqlalchemy->pandasql) (2.0.1)\n",
      "Requirement already satisfied: six>=1.5 in c:\\users\\hantt3\\appdata\\local\\anaconda3\\lib\\site-packages (from python-dateutil>=2.8.1->pandas->pandasql) (1.16.0)\n",
      "Building wheels for collected packages: pandasql\n",
      "  Building wheel for pandasql (setup.py): started\n",
      "  Building wheel for pandasql (setup.py): finished with status 'done'\n",
      "  Created wheel for pandasql: filename=pandasql-0.7.3-py3-none-any.whl size=26800 sha256=da304354c387f9e1e865273dbbf5fec5e088643e192f13c3412c28bafb0919c3\n",
      "  Stored in directory: c:\\users\\hantt3\\appdata\\local\\pip\\cache\\wheels\\4c\\a4\\ce\\ad31f7d9f6bfce32741955de12e76e3a6e7181c20321db3c66\n",
      "Successfully built pandasql\n",
      "Installing collected packages: pandasql\n",
      "Successfully installed pandasql-0.7.3\n",
      "Note: you may need to restart the kernel to use updated packages.\n"
     ]
    },
    {
     "name": "stderr",
     "output_type": "stream",
     "text": [
      "WARNING: Ignoring invalid distribution -ysql-connector-python (c:\\users\\hantt3\\appdata\\local\\anaconda3\\lib\\site-packages)\n",
      "WARNING: Ignoring invalid distribution -ysql-connector-python (c:\\users\\hantt3\\appdata\\local\\anaconda3\\lib\\site-packages)\n",
      "WARNING: Ignoring invalid distribution -ysql-connector-python (c:\\users\\hantt3\\appdata\\local\\anaconda3\\lib\\site-packages)\n",
      "WARNING: Ignoring invalid distribution -ysql-connector-python (c:\\users\\hantt3\\appdata\\local\\anaconda3\\lib\\site-packages)\n",
      "WARNING: Ignoring invalid distribution -ysql-connector-python (c:\\users\\hantt3\\appdata\\local\\anaconda3\\lib\\site-packages)\n",
      "WARNING: Ignoring invalid distribution -ysql-connector-python (c:\\users\\hantt3\\appdata\\local\\anaconda3\\lib\\site-packages)\n",
      "WARNING: Ignoring invalid distribution -ysql-connector-python (c:\\users\\hantt3\\appdata\\local\\anaconda3\\lib\\site-packages)\n"
     ]
    }
   ],
   "source": [
    "pip install pandasql"
   ]
  },
  {
   "cell_type": "code",
   "execution_count": 10,
   "id": "9c86ec4b",
   "metadata": {},
   "outputs": [],
   "source": [
    "product = pd.read_csv(\"lep_product.csv\", index_col=0)"
   ]
  },
  {
   "cell_type": "code",
   "execution_count": 11,
   "id": "0a420145",
   "metadata": {},
   "outputs": [
    {
     "data": {
      "text/html": [
       "<div>\n",
       "<style scoped>\n",
       "    .dataframe tbody tr th:only-of-type {\n",
       "        vertical-align: middle;\n",
       "    }\n",
       "\n",
       "    .dataframe tbody tr th {\n",
       "        vertical-align: top;\n",
       "    }\n",
       "\n",
       "    .dataframe thead th {\n",
       "        text-align: right;\n",
       "    }\n",
       "</style>\n",
       "<table border=\"1\" class=\"dataframe\">\n",
       "  <thead>\n",
       "    <tr style=\"text-align: right;\">\n",
       "      <th></th>\n",
       "      <th>product_title</th>\n",
       "      <th>price</th>\n",
       "      <th>product_id</th>\n",
       "    </tr>\n",
       "  </thead>\n",
       "  <tbody>\n",
       "    <tr>\n",
       "      <th>0</th>\n",
       "      <td>Váy nhún ngực xẻ đùi 1VA02010XL</td>\n",
       "      <td>750000.0</td>\n",
       "      <td>1VA02010XL</td>\n",
       "    </tr>\n",
       "    <tr>\n",
       "      <th>1</th>\n",
       "      <td>Váy wrap bút chì 1VA02002XL</td>\n",
       "      <td>695000.0</td>\n",
       "      <td>1VA02002XL</td>\n",
       "    </tr>\n",
       "    <tr>\n",
       "      <th>2</th>\n",
       "      <td>Váycổ vuông hở bụng 1VA02050XL</td>\n",
       "      <td>695000.0</td>\n",
       "      <td>1VA02050XL</td>\n",
       "    </tr>\n",
       "    <tr>\n",
       "      <th>3</th>\n",
       "      <td>váy hoa nhí cúc trai 1VA01811BE</td>\n",
       "      <td>795000.0</td>\n",
       "      <td>1VA01811BE</td>\n",
       "    </tr>\n",
       "    <tr>\n",
       "      <th>4</th>\n",
       "      <td>Áo yếm bèo xòe 1AO0178CA</td>\n",
       "      <td>495000.0</td>\n",
       "      <td>1AO0178CA</td>\n",
       "    </tr>\n",
       "  </tbody>\n",
       "</table>\n",
       "</div>"
      ],
      "text/plain": [
       "                     product_title     price  product_id\n",
       "0  Váy nhún ngực xẻ đùi 1VA02010XL  750000.0  1VA02010XL\n",
       "1      Váy wrap bút chì 1VA02002XL  695000.0  1VA02002XL\n",
       "2   Váycổ vuông hở bụng 1VA02050XL  695000.0  1VA02050XL\n",
       "3  váy hoa nhí cúc trai 1VA01811BE  795000.0  1VA01811BE\n",
       "4         Áo yếm bèo xòe 1AO0178CA  495000.0   1AO0178CA"
      ]
     },
     "execution_count": 11,
     "metadata": {},
     "output_type": "execute_result"
    }
   ],
   "source": [
    "product.head()"
   ]
  },
  {
   "cell_type": "code",
   "execution_count": 13,
   "id": "28d05a1e",
   "metadata": {},
   "outputs": [],
   "source": [
    "employee = pd.read_csv('lep_employee.csv',index_col=0)"
   ]
  },
  {
   "cell_type": "code",
   "execution_count": 14,
   "id": "2557baf9",
   "metadata": {},
   "outputs": [
    {
     "data": {
      "text/html": [
       "<div>\n",
       "<style scoped>\n",
       "    .dataframe tbody tr th:only-of-type {\n",
       "        vertical-align: middle;\n",
       "    }\n",
       "\n",
       "    .dataframe tbody tr th {\n",
       "        vertical-align: top;\n",
       "    }\n",
       "\n",
       "    .dataframe thead th {\n",
       "        text-align: right;\n",
       "    }\n",
       "</style>\n",
       "<table border=\"1\" class=\"dataframe\">\n",
       "  <thead>\n",
       "    <tr style=\"text-align: right;\">\n",
       "      <th></th>\n",
       "      <th>employee_id</th>\n",
       "      <th>first_name</th>\n",
       "      <th>last_name</th>\n",
       "      <th>full_name</th>\n",
       "      <th>birthday</th>\n",
       "      <th>email</th>\n",
       "      <th>employee_phone_number</th>\n",
       "      <th>gender</th>\n",
       "      <th>department</th>\n",
       "      <th>marital_status</th>\n",
       "      <th>salary</th>\n",
       "      <th>hire_date</th>\n",
       "    </tr>\n",
       "  </thead>\n",
       "  <tbody>\n",
       "    <tr>\n",
       "      <th>0</th>\n",
       "      <td>560826</td>\n",
       "      <td>Cathy</td>\n",
       "      <td>Webb</td>\n",
       "      <td>Cathy Webb</td>\n",
       "      <td>1993-05-10</td>\n",
       "      <td>cathyw@gmail.com</td>\n",
       "      <td>001-714-489-0170x7510</td>\n",
       "      <td>Male</td>\n",
       "      <td>Finance</td>\n",
       "      <td>Single</td>\n",
       "      <td>83377</td>\n",
       "      <td>2020-09-17</td>\n",
       "    </tr>\n",
       "    <tr>\n",
       "      <th>1</th>\n",
       "      <td>646855</td>\n",
       "      <td>Isabella</td>\n",
       "      <td>Valenzuela</td>\n",
       "      <td>Isabella Valenzuela</td>\n",
       "      <td>1982-12-16</td>\n",
       "      <td>isabellav@gmail.com</td>\n",
       "      <td>(690)730-4104x5519</td>\n",
       "      <td>Female</td>\n",
       "      <td>IT</td>\n",
       "      <td>Single</td>\n",
       "      <td>79692</td>\n",
       "      <td>2023-04-28</td>\n",
       "    </tr>\n",
       "    <tr>\n",
       "      <th>2</th>\n",
       "      <td>832469</td>\n",
       "      <td>Margaret</td>\n",
       "      <td>Dennis</td>\n",
       "      <td>Margaret Dennis</td>\n",
       "      <td>1980-07-21</td>\n",
       "      <td>margaretd@gmail.com</td>\n",
       "      <td>(597)862-0752x72930</td>\n",
       "      <td>Female</td>\n",
       "      <td>Finance</td>\n",
       "      <td>Single</td>\n",
       "      <td>50927</td>\n",
       "      <td>2021-12-06</td>\n",
       "    </tr>\n",
       "    <tr>\n",
       "      <th>3</th>\n",
       "      <td>298776</td>\n",
       "      <td>William</td>\n",
       "      <td>Graham</td>\n",
       "      <td>William Graham</td>\n",
       "      <td>1991-08-10</td>\n",
       "      <td>williamg@gmail.com</td>\n",
       "      <td>(226)371-9683x9613</td>\n",
       "      <td>Male</td>\n",
       "      <td>Finance</td>\n",
       "      <td>Married</td>\n",
       "      <td>62134</td>\n",
       "      <td>2021-08-31</td>\n",
       "    </tr>\n",
       "    <tr>\n",
       "      <th>4</th>\n",
       "      <td>68629</td>\n",
       "      <td>Mark</td>\n",
       "      <td>Wood</td>\n",
       "      <td>Mark Wood</td>\n",
       "      <td>1973-11-24</td>\n",
       "      <td>markw@gmail.com</td>\n",
       "      <td>384-599-2390x497</td>\n",
       "      <td>Male</td>\n",
       "      <td>IT</td>\n",
       "      <td>Married</td>\n",
       "      <td>41483</td>\n",
       "      <td>2021-06-02</td>\n",
       "    </tr>\n",
       "  </tbody>\n",
       "</table>\n",
       "</div>"
      ],
      "text/plain": [
       "   employee_id first_name   last_name            full_name    birthday  \\\n",
       "0       560826      Cathy        Webb           Cathy Webb  1993-05-10   \n",
       "1       646855   Isabella  Valenzuela  Isabella Valenzuela  1982-12-16   \n",
       "2       832469   Margaret      Dennis      Margaret Dennis  1980-07-21   \n",
       "3       298776    William      Graham       William Graham  1991-08-10   \n",
       "4        68629       Mark        Wood            Mark Wood  1973-11-24   \n",
       "\n",
       "                 email  employee_phone_number  gender department  \\\n",
       "0     cathyw@gmail.com  001-714-489-0170x7510    Male    Finance   \n",
       "1  isabellav@gmail.com     (690)730-4104x5519  Female         IT   \n",
       "2  margaretd@gmail.com    (597)862-0752x72930  Female    Finance   \n",
       "3   williamg@gmail.com     (226)371-9683x9613    Male    Finance   \n",
       "4      markw@gmail.com       384-599-2390x497    Male         IT   \n",
       "\n",
       "  marital_status  salary   hire_date  \n",
       "0         Single   83377  2020-09-17  \n",
       "1         Single   79692  2023-04-28  \n",
       "2         Single   50927  2021-12-06  \n",
       "3        Married   62134  2021-08-31  \n",
       "4        Married   41483  2021-06-02  "
      ]
     },
     "execution_count": 14,
     "metadata": {},
     "output_type": "execute_result"
    }
   ],
   "source": [
    "employee.head()"
   ]
  },
  {
   "cell_type": "code",
   "execution_count": 15,
   "id": "b418b7dd",
   "metadata": {},
   "outputs": [],
   "source": [
    "customer = pd.read_csv('lep_customer.csv', index_col=0)"
   ]
  },
  {
   "cell_type": "code",
   "execution_count": 19,
   "id": "c74ef353",
   "metadata": {},
   "outputs": [
    {
     "data": {
      "text/html": [
       "<div>\n",
       "<style scoped>\n",
       "    .dataframe tbody tr th:only-of-type {\n",
       "        vertical-align: middle;\n",
       "    }\n",
       "\n",
       "    .dataframe tbody tr th {\n",
       "        vertical-align: top;\n",
       "    }\n",
       "\n",
       "    .dataframe thead th {\n",
       "        text-align: right;\n",
       "    }\n",
       "</style>\n",
       "<table border=\"1\" class=\"dataframe\">\n",
       "  <thead>\n",
       "    <tr style=\"text-align: right;\">\n",
       "      <th></th>\n",
       "      <th>customer_id</th>\n",
       "      <th>first_name</th>\n",
       "      <th>last_name</th>\n",
       "      <th>full_name</th>\n",
       "      <th>birthday</th>\n",
       "      <th>email</th>\n",
       "      <th>gender</th>\n",
       "      <th>country</th>\n",
       "      <th>city</th>\n",
       "      <th>street</th>\n",
       "    </tr>\n",
       "  </thead>\n",
       "  <tbody>\n",
       "    <tr>\n",
       "      <th>0</th>\n",
       "      <td>8837775</td>\n",
       "      <td>Adrian</td>\n",
       "      <td>Woods</td>\n",
       "      <td>Adrian Woods</td>\n",
       "      <td>1992-12-24</td>\n",
       "      <td>adrianw@gmail.com</td>\n",
       "      <td>Male</td>\n",
       "      <td>Lesotho</td>\n",
       "      <td>Josephbury</td>\n",
       "      <td>9559 Rodriguez Haven Apt. 014</td>\n",
       "    </tr>\n",
       "    <tr>\n",
       "      <th>1</th>\n",
       "      <td>8345899</td>\n",
       "      <td>Kristen</td>\n",
       "      <td>Patrick</td>\n",
       "      <td>Kristen Patrick</td>\n",
       "      <td>1970-04-09</td>\n",
       "      <td>kristenp@gmail.com</td>\n",
       "      <td>Female</td>\n",
       "      <td>Italy</td>\n",
       "      <td>West Angelaside</td>\n",
       "      <td>2779 David Knoll Suite 911</td>\n",
       "    </tr>\n",
       "    <tr>\n",
       "      <th>2</th>\n",
       "      <td>3762240</td>\n",
       "      <td>David</td>\n",
       "      <td>Murphy</td>\n",
       "      <td>David Murphy</td>\n",
       "      <td>1959-05-19</td>\n",
       "      <td>davidm@gmail.com</td>\n",
       "      <td>Male</td>\n",
       "      <td>Portugal</td>\n",
       "      <td>Laurenfort</td>\n",
       "      <td>899 Curtis Station</td>\n",
       "    </tr>\n",
       "    <tr>\n",
       "      <th>3</th>\n",
       "      <td>2547658</td>\n",
       "      <td>Charles</td>\n",
       "      <td>Brown</td>\n",
       "      <td>Charles Brown</td>\n",
       "      <td>1998-02-27</td>\n",
       "      <td>charlesb@gmail.com</td>\n",
       "      <td>Female</td>\n",
       "      <td>Botswana</td>\n",
       "      <td>South Huntermouth</td>\n",
       "      <td>523 Mathew Road</td>\n",
       "    </tr>\n",
       "    <tr>\n",
       "      <th>4</th>\n",
       "      <td>5324229</td>\n",
       "      <td>Kelsey</td>\n",
       "      <td>Knight</td>\n",
       "      <td>Kelsey Knight</td>\n",
       "      <td>1961-02-03</td>\n",
       "      <td>kelseyk@gmail.com</td>\n",
       "      <td>Female</td>\n",
       "      <td>Niger</td>\n",
       "      <td>North Latoyachester</td>\n",
       "      <td>711 Bianca Drives</td>\n",
       "    </tr>\n",
       "  </tbody>\n",
       "</table>\n",
       "</div>"
      ],
      "text/plain": [
       "   customer_id first_name last_name        full_name    birthday  \\\n",
       "0      8837775     Adrian     Woods     Adrian Woods  1992-12-24   \n",
       "1      8345899    Kristen   Patrick  Kristen Patrick  1970-04-09   \n",
       "2      3762240      David    Murphy     David Murphy  1959-05-19   \n",
       "3      2547658    Charles     Brown    Charles Brown  1998-02-27   \n",
       "4      5324229     Kelsey    Knight    Kelsey Knight  1961-02-03   \n",
       "\n",
       "                email  gender   country                 city  \\\n",
       "0   adrianw@gmail.com    Male   Lesotho           Josephbury   \n",
       "1  kristenp@gmail.com  Female     Italy      West Angelaside   \n",
       "2    davidm@gmail.com    Male  Portugal           Laurenfort   \n",
       "3  charlesb@gmail.com  Female  Botswana    South Huntermouth   \n",
       "4   kelseyk@gmail.com  Female     Niger  North Latoyachester   \n",
       "\n",
       "                          street  \n",
       "0  9559 Rodriguez Haven Apt. 014  \n",
       "1     2779 David Knoll Suite 911  \n",
       "2             899 Curtis Station  \n",
       "3                523 Mathew Road  \n",
       "4              711 Bianca Drives  "
      ]
     },
     "execution_count": 19,
     "metadata": {},
     "output_type": "execute_result"
    }
   ],
   "source": [
    "customer.head()"
   ]
  },
  {
   "cell_type": "code",
   "execution_count": 16,
   "id": "dd9aeb73",
   "metadata": {},
   "outputs": [],
   "source": [
    "payment = pd.read_csv('lep_payment.csv', index_col = 0)"
   ]
  },
  {
   "cell_type": "code",
   "execution_count": 17,
   "id": "72bb6fb9",
   "metadata": {},
   "outputs": [],
   "source": [
    "# Adding the price column to the table payment\n",
    "query = '''\n",
    "select p1.*, p2.price as price\n",
    "from payment p1\n",
    "inner join product p2\n",
    "on p1.product_id = p2.product_id\n",
    "'''\n",
    "\n",
    "payment = sql(query)"
   ]
  },
  {
   "cell_type": "code",
   "execution_count": 18,
   "id": "a6f33032",
   "metadata": {},
   "outputs": [
    {
     "data": {
      "text/html": [
       "<div>\n",
       "<style scoped>\n",
       "    .dataframe tbody tr th:only-of-type {\n",
       "        vertical-align: middle;\n",
       "    }\n",
       "\n",
       "    .dataframe tbody tr th {\n",
       "        vertical-align: top;\n",
       "    }\n",
       "\n",
       "    .dataframe thead th {\n",
       "        text-align: right;\n",
       "    }\n",
       "</style>\n",
       "<table border=\"1\" class=\"dataframe\">\n",
       "  <thead>\n",
       "    <tr style=\"text-align: right;\">\n",
       "      <th></th>\n",
       "      <th>payment_id</th>\n",
       "      <th>payment_date</th>\n",
       "      <th>customer_id</th>\n",
       "      <th>employee_id</th>\n",
       "      <th>product_id</th>\n",
       "      <th>price</th>\n",
       "    </tr>\n",
       "  </thead>\n",
       "  <tbody>\n",
       "    <tr>\n",
       "      <th>0</th>\n",
       "      <td>389032931</td>\n",
       "      <td>2023-03-23</td>\n",
       "      <td>8946605</td>\n",
       "      <td>511819</td>\n",
       "      <td>1VA01927XT</td>\n",
       "      <td>695000.0</td>\n",
       "    </tr>\n",
       "    <tr>\n",
       "      <th>1</th>\n",
       "      <td>139073443</td>\n",
       "      <td>2022-10-06</td>\n",
       "      <td>3082219</td>\n",
       "      <td>811126</td>\n",
       "      <td>1VA02121XT</td>\n",
       "      <td>850000.0</td>\n",
       "    </tr>\n",
       "    <tr>\n",
       "      <th>2</th>\n",
       "      <td>957908613</td>\n",
       "      <td>2021-08-03</td>\n",
       "      <td>3016036</td>\n",
       "      <td>452330</td>\n",
       "      <td>1VA01855TI</td>\n",
       "      <td>695000.0</td>\n",
       "    </tr>\n",
       "    <tr>\n",
       "      <th>3</th>\n",
       "      <td>918427211</td>\n",
       "      <td>2023-03-16</td>\n",
       "      <td>2669326</td>\n",
       "      <td>147602</td>\n",
       "      <td>1VA01837D</td>\n",
       "      <td>750000.0</td>\n",
       "    </tr>\n",
       "    <tr>\n",
       "      <th>4</th>\n",
       "      <td>268262738</td>\n",
       "      <td>2022-03-09</td>\n",
       "      <td>7284948</td>\n",
       "      <td>242020</td>\n",
       "      <td>1VA02038HO</td>\n",
       "      <td>850000.0</td>\n",
       "    </tr>\n",
       "  </tbody>\n",
       "</table>\n",
       "</div>"
      ],
      "text/plain": [
       "   payment_id payment_date  customer_id  employee_id  product_id     price\n",
       "0   389032931   2023-03-23      8946605       511819  1VA01927XT  695000.0\n",
       "1   139073443   2022-10-06      3082219       811126  1VA02121XT  850000.0\n",
       "2   957908613   2021-08-03      3016036       452330  1VA01855TI  695000.0\n",
       "3   918427211   2023-03-16      2669326       147602   1VA01837D  750000.0\n",
       "4   268262738   2022-03-09      7284948       242020  1VA02038HO  850000.0"
      ]
     },
     "execution_count": 18,
     "metadata": {},
     "output_type": "execute_result"
    }
   ],
   "source": [
    "payment.head()"
   ]
  },
  {
   "cell_type": "markdown",
   "id": "21647f74",
   "metadata": {},
   "source": [
    "## Normalizing the Data"
   ]
  },
  {
   "cell_type": "markdown",
   "id": "70be798e",
   "metadata": {},
   "source": [
    "### Customer table"
   ]
  },
  {
   "cell_type": "code",
   "execution_count": 29,
   "id": "3c899f03",
   "metadata": {},
   "outputs": [
    {
     "data": {
      "text/html": [
       "<div>\n",
       "<style scoped>\n",
       "    .dataframe tbody tr th:only-of-type {\n",
       "        vertical-align: middle;\n",
       "    }\n",
       "\n",
       "    .dataframe tbody tr th {\n",
       "        vertical-align: top;\n",
       "    }\n",
       "\n",
       "    .dataframe thead th {\n",
       "        text-align: right;\n",
       "    }\n",
       "</style>\n",
       "<table border=\"1\" class=\"dataframe\">\n",
       "  <thead>\n",
       "    <tr style=\"text-align: right;\">\n",
       "      <th></th>\n",
       "      <th>country</th>\n",
       "      <th>country_id</th>\n",
       "    </tr>\n",
       "  </thead>\n",
       "  <tbody>\n",
       "    <tr>\n",
       "      <th>0</th>\n",
       "      <td>Lesotho</td>\n",
       "      <td>0</td>\n",
       "    </tr>\n",
       "    <tr>\n",
       "      <th>1</th>\n",
       "      <td>Italy</td>\n",
       "      <td>1</td>\n",
       "    </tr>\n",
       "    <tr>\n",
       "      <th>2</th>\n",
       "      <td>Portugal</td>\n",
       "      <td>2</td>\n",
       "    </tr>\n",
       "    <tr>\n",
       "      <th>3</th>\n",
       "      <td>Botswana</td>\n",
       "      <td>3</td>\n",
       "    </tr>\n",
       "    <tr>\n",
       "      <th>4</th>\n",
       "      <td>Niger</td>\n",
       "      <td>4</td>\n",
       "    </tr>\n",
       "  </tbody>\n",
       "</table>\n",
       "</div>"
      ],
      "text/plain": [
       "    country  country_id\n",
       "0   Lesotho           0\n",
       "1     Italy           1\n",
       "2  Portugal           2\n",
       "3  Botswana           3\n",
       "4     Niger           4"
      ]
     },
     "execution_count": 29,
     "metadata": {},
     "output_type": "execute_result"
    }
   ],
   "source": [
    "# Creating a new table called countries_df\n",
    "countries_df = customer[['country']].copy().drop_duplicates() #copy() method is used on the selected column to create a new DataFrame\n",
    "countries_df['country_id'] = range(len(countries_df))\n",
    "countries_df = countries_df.reset_index(drop=True)\n",
    "countries_df.head()"
   ]
  },
  {
   "cell_type": "code",
   "execution_count": 33,
   "id": "ad34b375",
   "metadata": {},
   "outputs": [],
   "source": [
    "query = '''\n",
    "SELECT countries_df.country_id\n",
    "FROM customer\n",
    "JOIN countries_df ON customer.country = countries_df.country\n",
    "'''\n",
    "\n",
    "country_ids = sql(query)\n",
    "\n",
    "# Connecting countries to customers by adding the foreign key: country_id\n",
    "customer['country_id'] = country_ids"
   ]
  },
  {
   "cell_type": "code",
   "execution_count": 35,
   "id": "947bb428",
   "metadata": {},
   "outputs": [
    {
     "data": {
      "text/html": [
       "<div>\n",
       "<style scoped>\n",
       "    .dataframe tbody tr th:only-of-type {\n",
       "        vertical-align: middle;\n",
       "    }\n",
       "\n",
       "    .dataframe tbody tr th {\n",
       "        vertical-align: top;\n",
       "    }\n",
       "\n",
       "    .dataframe thead th {\n",
       "        text-align: right;\n",
       "    }\n",
       "</style>\n",
       "<table border=\"1\" class=\"dataframe\">\n",
       "  <thead>\n",
       "    <tr style=\"text-align: right;\">\n",
       "      <th></th>\n",
       "      <th>customer_id</th>\n",
       "      <th>first_name</th>\n",
       "      <th>last_name</th>\n",
       "      <th>full_name</th>\n",
       "      <th>birthday</th>\n",
       "      <th>email</th>\n",
       "      <th>gender</th>\n",
       "      <th>country</th>\n",
       "      <th>city</th>\n",
       "      <th>street</th>\n",
       "      <th>country_id</th>\n",
       "    </tr>\n",
       "  </thead>\n",
       "  <tbody>\n",
       "    <tr>\n",
       "      <th>995</th>\n",
       "      <td>6830701</td>\n",
       "      <td>Phillip</td>\n",
       "      <td>Duran</td>\n",
       "      <td>Phillip Duran</td>\n",
       "      <td>1943-10-22</td>\n",
       "      <td>phillipd@gmail.com</td>\n",
       "      <td>Female</td>\n",
       "      <td>Turkmenistan</td>\n",
       "      <td>Charlestown</td>\n",
       "      <td>532 Morrison Ford Apt. 576</td>\n",
       "      <td>164</td>\n",
       "    </tr>\n",
       "    <tr>\n",
       "      <th>996</th>\n",
       "      <td>5045277</td>\n",
       "      <td>David</td>\n",
       "      <td>Rodriguez</td>\n",
       "      <td>David Rodriguez</td>\n",
       "      <td>1979-10-20</td>\n",
       "      <td>davidr@gmail.com</td>\n",
       "      <td>Female</td>\n",
       "      <td>Latvia</td>\n",
       "      <td>Lake Kimberlyport</td>\n",
       "      <td>8460 Mcfarland Village Apt. 545</td>\n",
       "      <td>78</td>\n",
       "    </tr>\n",
       "    <tr>\n",
       "      <th>997</th>\n",
       "      <td>1928291</td>\n",
       "      <td>Mary</td>\n",
       "      <td>Hernandez</td>\n",
       "      <td>Mary Hernandez</td>\n",
       "      <td>1946-06-25</td>\n",
       "      <td>maryh@gmail.com</td>\n",
       "      <td>Female</td>\n",
       "      <td>Bahrain</td>\n",
       "      <td>South Heatherborough</td>\n",
       "      <td>76444 Travis Street</td>\n",
       "      <td>35</td>\n",
       "    </tr>\n",
       "    <tr>\n",
       "      <th>998</th>\n",
       "      <td>12679</td>\n",
       "      <td>Robert</td>\n",
       "      <td>Lee</td>\n",
       "      <td>Robert Lee</td>\n",
       "      <td>1956-03-18</td>\n",
       "      <td>robertl@gmail.com</td>\n",
       "      <td>Male</td>\n",
       "      <td>Mauritius</td>\n",
       "      <td>Jimtown</td>\n",
       "      <td>956 Michelle Ways Suite 368</td>\n",
       "      <td>151</td>\n",
       "    </tr>\n",
       "    <tr>\n",
       "      <th>999</th>\n",
       "      <td>8624653</td>\n",
       "      <td>Leslie</td>\n",
       "      <td>Schaefer</td>\n",
       "      <td>Leslie Schaefer</td>\n",
       "      <td>1970-04-03</td>\n",
       "      <td>leslies@gmail.com</td>\n",
       "      <td>Female</td>\n",
       "      <td>Guam</td>\n",
       "      <td>Castillohaven</td>\n",
       "      <td>139 Jessica Roads Apt. 030</td>\n",
       "      <td>69</td>\n",
       "    </tr>\n",
       "  </tbody>\n",
       "</table>\n",
       "</div>"
      ],
      "text/plain": [
       "     customer_id first_name  last_name        full_name    birthday  \\\n",
       "995      6830701    Phillip      Duran    Phillip Duran  1943-10-22   \n",
       "996      5045277      David  Rodriguez  David Rodriguez  1979-10-20   \n",
       "997      1928291       Mary  Hernandez   Mary Hernandez  1946-06-25   \n",
       "998        12679     Robert        Lee       Robert Lee  1956-03-18   \n",
       "999      8624653     Leslie   Schaefer  Leslie Schaefer  1970-04-03   \n",
       "\n",
       "                  email  gender       country                  city  \\\n",
       "995  phillipd@gmail.com  Female  Turkmenistan           Charlestown   \n",
       "996    davidr@gmail.com  Female        Latvia     Lake Kimberlyport   \n",
       "997     maryh@gmail.com  Female       Bahrain  South Heatherborough   \n",
       "998   robertl@gmail.com    Male     Mauritius               Jimtown   \n",
       "999   leslies@gmail.com  Female          Guam         Castillohaven   \n",
       "\n",
       "                              street  country_id  \n",
       "995       532 Morrison Ford Apt. 576         164  \n",
       "996  8460 Mcfarland Village Apt. 545          78  \n",
       "997              76444 Travis Street          35  \n",
       "998      956 Michelle Ways Suite 368         151  \n",
       "999       139 Jessica Roads Apt. 030          69  "
      ]
     },
     "execution_count": 35,
     "metadata": {},
     "output_type": "execute_result"
    }
   ],
   "source": [
    "customer.tail()"
   ]
  },
  {
   "cell_type": "code",
   "execution_count": 36,
   "id": "8022681c",
   "metadata": {},
   "outputs": [
    {
     "data": {
      "text/html": [
       "<div>\n",
       "<style scoped>\n",
       "    .dataframe tbody tr th:only-of-type {\n",
       "        vertical-align: middle;\n",
       "    }\n",
       "\n",
       "    .dataframe tbody tr th {\n",
       "        vertical-align: top;\n",
       "    }\n",
       "\n",
       "    .dataframe thead th {\n",
       "        text-align: right;\n",
       "    }\n",
       "</style>\n",
       "<table border=\"1\" class=\"dataframe\">\n",
       "  <thead>\n",
       "    <tr style=\"text-align: right;\">\n",
       "      <th></th>\n",
       "      <th>customer_id</th>\n",
       "      <th>first_name</th>\n",
       "      <th>last_name</th>\n",
       "      <th>full_name</th>\n",
       "      <th>birthday</th>\n",
       "      <th>email</th>\n",
       "      <th>gender</th>\n",
       "      <th>country</th>\n",
       "      <th>city</th>\n",
       "      <th>street</th>\n",
       "      <th>country_id</th>\n",
       "    </tr>\n",
       "  </thead>\n",
       "  <tbody>\n",
       "    <tr>\n",
       "      <th>39</th>\n",
       "      <td>6099454</td>\n",
       "      <td>Michael</td>\n",
       "      <td>Allison</td>\n",
       "      <td>Michael Allison</td>\n",
       "      <td>1953-04-23</td>\n",
       "      <td>michaela@gmail.com</td>\n",
       "      <td>Female</td>\n",
       "      <td>Bahrain</td>\n",
       "      <td>West Johnathan</td>\n",
       "      <td>27289 Jennifer Circles</td>\n",
       "      <td>35</td>\n",
       "    </tr>\n",
       "    <tr>\n",
       "      <th>200</th>\n",
       "      <td>5123497</td>\n",
       "      <td>Jerry</td>\n",
       "      <td>Jordan</td>\n",
       "      <td>Jerry Jordan</td>\n",
       "      <td>1992-11-08</td>\n",
       "      <td>jerryj@gmail.com</td>\n",
       "      <td>Male</td>\n",
       "      <td>Bahrain</td>\n",
       "      <td>Jarvisport</td>\n",
       "      <td>885 William Springs</td>\n",
       "      <td>35</td>\n",
       "    </tr>\n",
       "    <tr>\n",
       "      <th>997</th>\n",
       "      <td>1928291</td>\n",
       "      <td>Mary</td>\n",
       "      <td>Hernandez</td>\n",
       "      <td>Mary Hernandez</td>\n",
       "      <td>1946-06-25</td>\n",
       "      <td>maryh@gmail.com</td>\n",
       "      <td>Female</td>\n",
       "      <td>Bahrain</td>\n",
       "      <td>South Heatherborough</td>\n",
       "      <td>76444 Travis Street</td>\n",
       "      <td>35</td>\n",
       "    </tr>\n",
       "  </tbody>\n",
       "</table>\n",
       "</div>"
      ],
      "text/plain": [
       "     customer_id first_name  last_name        full_name    birthday  \\\n",
       "39       6099454    Michael    Allison  Michael Allison  1953-04-23   \n",
       "200      5123497      Jerry     Jordan     Jerry Jordan  1992-11-08   \n",
       "997      1928291       Mary  Hernandez   Mary Hernandez  1946-06-25   \n",
       "\n",
       "                  email  gender  country                  city  \\\n",
       "39   michaela@gmail.com  Female  Bahrain        West Johnathan   \n",
       "200    jerryj@gmail.com    Male  Bahrain            Jarvisport   \n",
       "997     maryh@gmail.com  Female  Bahrain  South Heatherborough   \n",
       "\n",
       "                     street  country_id  \n",
       "39   27289 Jennifer Circles          35  \n",
       "200     885 William Springs          35  \n",
       "997     76444 Travis Street          35  "
      ]
     },
     "execution_count": 36,
     "metadata": {},
     "output_type": "execute_result"
    }
   ],
   "source": [
    "customer[customer['country']=='Bahrain']"
   ]
  },
  {
   "cell_type": "code",
   "execution_count": 37,
   "id": "cb163d7c",
   "metadata": {},
   "outputs": [],
   "source": [
    "# Dropping the column country\n",
    "customer = customer.drop(['country'],axis=1)"
   ]
  },
  {
   "cell_type": "markdown",
   "id": "e49013f7",
   "metadata": {},
   "source": [
    "The gender column in the customer table is functionally dependent on the primary key and there are no other non-key attributes dependent on gender and there are no other non-key attributes dependent on gender, creating a separate table may not be necessary. "
   ]
  },
  {
   "cell_type": "markdown",
   "id": "24b24e1f",
   "metadata": {},
   "source": [
    "### Employee Table"
   ]
  },
  {
   "cell_type": "code",
   "execution_count": 38,
   "id": "b4faa618",
   "metadata": {},
   "outputs": [
    {
     "data": {
      "text/html": [
       "<div>\n",
       "<style scoped>\n",
       "    .dataframe tbody tr th:only-of-type {\n",
       "        vertical-align: middle;\n",
       "    }\n",
       "\n",
       "    .dataframe tbody tr th {\n",
       "        vertical-align: top;\n",
       "    }\n",
       "\n",
       "    .dataframe thead th {\n",
       "        text-align: right;\n",
       "    }\n",
       "</style>\n",
       "<table border=\"1\" class=\"dataframe\">\n",
       "  <thead>\n",
       "    <tr style=\"text-align: right;\">\n",
       "      <th></th>\n",
       "      <th>department</th>\n",
       "      <th>department_id</th>\n",
       "    </tr>\n",
       "  </thead>\n",
       "  <tbody>\n",
       "    <tr>\n",
       "      <th>0</th>\n",
       "      <td>Finance</td>\n",
       "      <td>0</td>\n",
       "    </tr>\n",
       "    <tr>\n",
       "      <th>1</th>\n",
       "      <td>IT</td>\n",
       "      <td>1</td>\n",
       "    </tr>\n",
       "    <tr>\n",
       "      <th>2</th>\n",
       "      <td>Sale</td>\n",
       "      <td>2</td>\n",
       "    </tr>\n",
       "    <tr>\n",
       "      <th>3</th>\n",
       "      <td>HR</td>\n",
       "      <td>3</td>\n",
       "    </tr>\n",
       "  </tbody>\n",
       "</table>\n",
       "</div>"
      ],
      "text/plain": [
       "  department  department_id\n",
       "0    Finance              0\n",
       "1         IT              1\n",
       "2       Sale              2\n",
       "3         HR              3"
      ]
     },
     "execution_count": 38,
     "metadata": {},
     "output_type": "execute_result"
    }
   ],
   "source": [
    "department_df = employee[['department']].copy().drop_duplicates() #copy() method is used on the selected column to create a new DataFrame\n",
    "department_df['department_id'] = range(len(department_df))\n",
    "department_df = department_df.reset_index(drop=True)\n",
    "department_df.head()"
   ]
  },
  {
   "cell_type": "code",
   "execution_count": 43,
   "id": "b533e229",
   "metadata": {},
   "outputs": [],
   "source": [
    "# retrieves the matching department_id values from the department_df table\n",
    "query = '''\n",
    "select department_df.department_id\n",
    "from employee \n",
    "join department_df\n",
    "on \n",
    "    employee.department = department_df.department\n",
    "'''\n",
    "\n",
    "\n",
    "department_ids = sql(query)\n",
    "\n",
    "# Connecting countries to customers by adding the foregin key: country_id\n",
    "employee['department_id'] = department_ids"
   ]
  },
  {
   "cell_type": "code",
   "execution_count": 44,
   "id": "9438cee9",
   "metadata": {},
   "outputs": [
    {
     "data": {
      "text/html": [
       "<div>\n",
       "<style scoped>\n",
       "    .dataframe tbody tr th:only-of-type {\n",
       "        vertical-align: middle;\n",
       "    }\n",
       "\n",
       "    .dataframe tbody tr th {\n",
       "        vertical-align: top;\n",
       "    }\n",
       "\n",
       "    .dataframe thead th {\n",
       "        text-align: right;\n",
       "    }\n",
       "</style>\n",
       "<table border=\"1\" class=\"dataframe\">\n",
       "  <thead>\n",
       "    <tr style=\"text-align: right;\">\n",
       "      <th></th>\n",
       "      <th>employee_id</th>\n",
       "      <th>first_name</th>\n",
       "      <th>last_name</th>\n",
       "      <th>full_name</th>\n",
       "      <th>birthday</th>\n",
       "      <th>email</th>\n",
       "      <th>employee_phone_number</th>\n",
       "      <th>gender</th>\n",
       "      <th>department</th>\n",
       "      <th>marital_status</th>\n",
       "      <th>salary</th>\n",
       "      <th>hire_date</th>\n",
       "      <th>department_id</th>\n",
       "    </tr>\n",
       "  </thead>\n",
       "  <tbody>\n",
       "    <tr>\n",
       "      <th>0</th>\n",
       "      <td>560826</td>\n",
       "      <td>Cathy</td>\n",
       "      <td>Webb</td>\n",
       "      <td>Cathy Webb</td>\n",
       "      <td>1993-05-10</td>\n",
       "      <td>cathyw@gmail.com</td>\n",
       "      <td>001-714-489-0170x7510</td>\n",
       "      <td>Male</td>\n",
       "      <td>Finance</td>\n",
       "      <td>Single</td>\n",
       "      <td>83377</td>\n",
       "      <td>2020-09-17</td>\n",
       "      <td>0</td>\n",
       "    </tr>\n",
       "    <tr>\n",
       "      <th>1</th>\n",
       "      <td>646855</td>\n",
       "      <td>Isabella</td>\n",
       "      <td>Valenzuela</td>\n",
       "      <td>Isabella Valenzuela</td>\n",
       "      <td>1982-12-16</td>\n",
       "      <td>isabellav@gmail.com</td>\n",
       "      <td>(690)730-4104x5519</td>\n",
       "      <td>Female</td>\n",
       "      <td>IT</td>\n",
       "      <td>Single</td>\n",
       "      <td>79692</td>\n",
       "      <td>2023-04-28</td>\n",
       "      <td>1</td>\n",
       "    </tr>\n",
       "    <tr>\n",
       "      <th>2</th>\n",
       "      <td>832469</td>\n",
       "      <td>Margaret</td>\n",
       "      <td>Dennis</td>\n",
       "      <td>Margaret Dennis</td>\n",
       "      <td>1980-07-21</td>\n",
       "      <td>margaretd@gmail.com</td>\n",
       "      <td>(597)862-0752x72930</td>\n",
       "      <td>Female</td>\n",
       "      <td>Finance</td>\n",
       "      <td>Single</td>\n",
       "      <td>50927</td>\n",
       "      <td>2021-12-06</td>\n",
       "      <td>0</td>\n",
       "    </tr>\n",
       "    <tr>\n",
       "      <th>3</th>\n",
       "      <td>298776</td>\n",
       "      <td>William</td>\n",
       "      <td>Graham</td>\n",
       "      <td>William Graham</td>\n",
       "      <td>1991-08-10</td>\n",
       "      <td>williamg@gmail.com</td>\n",
       "      <td>(226)371-9683x9613</td>\n",
       "      <td>Male</td>\n",
       "      <td>Finance</td>\n",
       "      <td>Married</td>\n",
       "      <td>62134</td>\n",
       "      <td>2021-08-31</td>\n",
       "      <td>0</td>\n",
       "    </tr>\n",
       "    <tr>\n",
       "      <th>4</th>\n",
       "      <td>68629</td>\n",
       "      <td>Mark</td>\n",
       "      <td>Wood</td>\n",
       "      <td>Mark Wood</td>\n",
       "      <td>1973-11-24</td>\n",
       "      <td>markw@gmail.com</td>\n",
       "      <td>384-599-2390x497</td>\n",
       "      <td>Male</td>\n",
       "      <td>IT</td>\n",
       "      <td>Married</td>\n",
       "      <td>41483</td>\n",
       "      <td>2021-06-02</td>\n",
       "      <td>1</td>\n",
       "    </tr>\n",
       "  </tbody>\n",
       "</table>\n",
       "</div>"
      ],
      "text/plain": [
       "   employee_id first_name   last_name            full_name    birthday  \\\n",
       "0       560826      Cathy        Webb           Cathy Webb  1993-05-10   \n",
       "1       646855   Isabella  Valenzuela  Isabella Valenzuela  1982-12-16   \n",
       "2       832469   Margaret      Dennis      Margaret Dennis  1980-07-21   \n",
       "3       298776    William      Graham       William Graham  1991-08-10   \n",
       "4        68629       Mark        Wood            Mark Wood  1973-11-24   \n",
       "\n",
       "                 email  employee_phone_number  gender department  \\\n",
       "0     cathyw@gmail.com  001-714-489-0170x7510    Male    Finance   \n",
       "1  isabellav@gmail.com     (690)730-4104x5519  Female         IT   \n",
       "2  margaretd@gmail.com    (597)862-0752x72930  Female    Finance   \n",
       "3   williamg@gmail.com     (226)371-9683x9613    Male    Finance   \n",
       "4      markw@gmail.com       384-599-2390x497    Male         IT   \n",
       "\n",
       "  marital_status  salary   hire_date  department_id  \n",
       "0         Single   83377  2020-09-17              0  \n",
       "1         Single   79692  2023-04-28              1  \n",
       "2         Single   50927  2021-12-06              0  \n",
       "3        Married   62134  2021-08-31              0  \n",
       "4        Married   41483  2021-06-02              1  "
      ]
     },
     "execution_count": 44,
     "metadata": {},
     "output_type": "execute_result"
    }
   ],
   "source": [
    "employee.head()"
   ]
  },
  {
   "cell_type": "code",
   "execution_count": 45,
   "id": "da293390",
   "metadata": {},
   "outputs": [],
   "source": [
    "# Dropping the column department\n",
    "employee = employee.drop('department',axis = 1)"
   ]
  },
  {
   "cell_type": "markdown",
   "id": "fb5480d2",
   "metadata": {},
   "source": [
    "Now that the tables are normalized, I will connect to the database and load the data according to my design. The tool I used as my database is MySQL."
   ]
  },
  {
   "cell_type": "markdown",
   "id": "c30326b2",
   "metadata": {},
   "source": [
    "## Loading the data into RDBMS"
   ]
  },
  {
   "cell_type": "markdown",
   "id": "61abcf2a",
   "metadata": {},
   "source": [
    "### Connecting Python to MySQL"
   ]
  },
  {
   "cell_type": "code",
   "execution_count": 47,
   "id": "e106672a",
   "metadata": {},
   "outputs": [],
   "source": [
    "# Connecting to MySQL schema: whiskey_retail_shop\n",
    "connection = pymysql.connect(host ='localhost',\n",
    "                             port=int(3306),\n",
    "                             user='root',passwd=12345678)\n",
    "# Creating a Cursor object\n",
    "cursor = connection.cursor()"
   ]
  },
  {
   "cell_type": "markdown",
   "id": "ad85d24f",
   "metadata": {},
   "source": [
    "### Creating a new Schema"
   ]
  },
  {
   "cell_type": "code",
   "execution_count": 49,
   "id": "b69c3181",
   "metadata": {},
   "outputs": [
    {
     "data": {
      "text/plain": [
       "0"
      ]
     },
     "execution_count": 49,
     "metadata": {},
     "output_type": "execute_result"
    }
   ],
   "source": [
    "# Create a new schema called whiskey_shop\n",
    "cursor.execute('''\n",
    "drop schema if exists lep_store;\n",
    "''')\n",
    "\n",
    "cursor.execute('''\n",
    "create schema lep_store;\n",
    "''')\n",
    "\n",
    "# Use the new schema\n",
    "cursor.execute('''\n",
    "use lep_store;\n",
    "''')"
   ]
  },
  {
   "cell_type": "markdown",
   "id": "a3192373",
   "metadata": {},
   "source": [
    "### Generating empty tables"
   ]
  },
  {
   "cell_type": "markdown",
   "id": "15f5d3f2",
   "metadata": {},
   "source": [
    "#### countries_df"
   ]
  },
  {
   "cell_type": "code",
   "execution_count": 59,
   "id": "aae2ea19",
   "metadata": {},
   "outputs": [
    {
     "data": {
      "text/plain": [
       "0"
      ]
     },
     "execution_count": 59,
     "metadata": {},
     "output_type": "execute_result"
    }
   ],
   "source": [
    "cursor.execute('''\n",
    "DROP TABLE IF EXISTS countries;\n",
    "''')\n",
    "\n",
    "cursor.execute('''\n",
    "CREATE TABLE countries (\n",
    "    country VARCHAR(100) NOT NULL,\n",
    "    country_id INT PRIMARY KEY\n",
    "    );\n",
    "''')"
   ]
  },
  {
   "cell_type": "markdown",
   "id": "35e550c0",
   "metadata": {},
   "source": [
    "#### department_df"
   ]
  },
  {
   "cell_type": "code",
   "execution_count": 63,
   "id": "a88d98b7",
   "metadata": {},
   "outputs": [
    {
     "data": {
      "text/plain": [
       "0"
      ]
     },
     "execution_count": 63,
     "metadata": {},
     "output_type": "execute_result"
    }
   ],
   "source": [
    "cursor.execute('''\n",
    "DROP TABLE IF EXISTS departments;\n",
    "''')\n",
    "\n",
    "cursor.execute('''\n",
    "CREATE TABLE departments (\n",
    "    department_id INT PRIMARY KEY,\n",
    "    department VARCHAR(100) NOT NULL\n",
    "    );\n",
    "''')"
   ]
  },
  {
   "cell_type": "markdown",
   "id": "93cb02d4",
   "metadata": {},
   "source": [
    "#### product"
   ]
  },
  {
   "cell_type": "code",
   "execution_count": 77,
   "id": "8853a1c3",
   "metadata": {},
   "outputs": [
    {
     "data": {
      "text/plain": [
       "0"
      ]
     },
     "execution_count": 77,
     "metadata": {},
     "output_type": "execute_result"
    }
   ],
   "source": [
    "cursor.execute('''\n",
    "DROP TABLE IF EXISTS products;\n",
    "''')\n",
    "\n",
    "cursor.execute('''\n",
    "CREATE TABLE products (\n",
    "    product_id VARCHAR(100) NOT NULL PRIMARY KEY,\n",
    "    name VARCHAR(100) NOT NULL,\n",
    "    price FLOAT NOT NULL\n",
    "    );\n",
    "''')"
   ]
  },
  {
   "cell_type": "markdown",
   "id": "c987cf94",
   "metadata": {},
   "source": [
    "#### customer"
   ]
  },
  {
   "cell_type": "code",
   "execution_count": 80,
   "id": "ff756693",
   "metadata": {},
   "outputs": [
    {
     "data": {
      "text/plain": [
       "0"
      ]
     },
     "execution_count": 80,
     "metadata": {},
     "output_type": "execute_result"
    }
   ],
   "source": [
    "cursor.execute('''\n",
    "DROP TABLE IF EXISTS customers;\n",
    "''')\n",
    "\n",
    "cursor.execute('''\n",
    "CREATE TABLE customers (\n",
    "    customer_id INT PRIMARY KEY NOT NULL,\n",
    "    first_name VARCHAR(100) NOT NULL,\n",
    "    last_name VARCHAR(100) NOT NULL,\n",
    "    full_name VARCHAR(100) NOT NULL,\n",
    "    birthday date NOT NULL,\n",
    "    email VARCHAR(100) NOT NULL,\n",
    "    gender VARCHAR(10) NOT NULL,\n",
    "    city VARCHAR(100) NOT NULL,\n",
    "    street VARCHAR(100) NOT NULL,\n",
    "    country_id INT NOT NULL,\n",
    "    \n",
    "    FOREIGN KEY (country_id) REFERENCES countries (country_id)\n",
    ");\n",
    "''')"
   ]
  },
  {
   "cell_type": "markdown",
   "id": "a1d9c258",
   "metadata": {},
   "source": [
    "#### Employee"
   ]
  },
  {
   "cell_type": "code",
   "execution_count": 64,
   "id": "4156cd79",
   "metadata": {},
   "outputs": [
    {
     "data": {
      "text/plain": [
       "0"
      ]
     },
     "execution_count": 64,
     "metadata": {},
     "output_type": "execute_result"
    }
   ],
   "source": [
    "cursor.execute('''\n",
    "DROP TABLE IF EXISTS employees;\n",
    "''')\n",
    "\n",
    "cursor.execute('''\n",
    "CREATE TABLE employees (\n",
    "    employee_id INT PRIMARY KEY NOT NULL,\n",
    "    first_name VARCHAR(100) NOT NULL,\n",
    "    last_name VARCHAR(100) NOT NULL,\n",
    "    full_name VARCHAR(100) NOT NULL,\n",
    "    email VARCHAR(100) NOT NULL,\n",
    "    birthday date NOT NULL,\n",
    "    employee_phone_number VARCHAR(30),\n",
    "    gender VARCHAR (10) NOT NULL,\n",
    "    department_id INT NOT NULL,\n",
    "    marital_status VARCHAR (15) NOT NULL,\n",
    "    salary INT NOT NULL,\n",
    "    hire_date date NOT NULL,\n",
    "\n",
    "    \n",
    "    FOREIGN KEY (department_id) REFERENCES departments(department_id)\n",
    ");\n",
    "''')"
   ]
  },
  {
   "cell_type": "markdown",
   "id": "96179dae",
   "metadata": {},
   "source": [
    "#### Payment\n"
   ]
  },
  {
   "cell_type": "code",
   "execution_count": 87,
   "id": "3a1b1a00",
   "metadata": {},
   "outputs": [
    {
     "data": {
      "text/plain": [
       "0"
      ]
     },
     "execution_count": 87,
     "metadata": {},
     "output_type": "execute_result"
    }
   ],
   "source": [
    "cursor.execute('''\n",
    "DROP TABLE IF EXISTS payments;\n",
    "''')\n",
    "\n",
    "cursor.execute('''\n",
    "CREATE TABLE payments (\n",
    "    payment_id INT NOT NULL PRIMARY KEY,\n",
    "    date DATE NOT NULL,\n",
    "    customer_id INT NOT NULL,\n",
    "    employee_id INT NOT NULL,\n",
    "    product_id VARCHAR(100) NOT NULL,\n",
    "    price FLOAT NOT NULL\n",
    "    );\n",
    "''')"
   ]
  },
  {
   "cell_type": "markdown",
   "id": "46d6b4c2",
   "metadata": {},
   "source": [
    "### Populate the tables"
   ]
  },
  {
   "cell_type": "code",
   "execution_count": 69,
   "id": "c33be169",
   "metadata": {},
   "outputs": [],
   "source": [
    "# Convert the Dataframe into a list of arrays\n",
    "records = countries_df.to_records(index=False)\n",
    "\n",
    "# Convert the list of arrays into a tuple of tuples\n",
    "result = tuple(records)\n",
    "\n",
    "for data in range(0,len(result)):\n",
    "    \n",
    "    # Create a new record\n",
    "    query = \"insert into countries (country, country_id) values {}\".format(result[data])\n",
    "    \n",
    "    # Execute the query\n",
    "    cursor.execute(query)\n",
    "    \n",
    "    \n",
    "# Commit the transaction\n",
    "connection.commit()"
   ]
  },
  {
   "cell_type": "code",
   "execution_count": null,
   "id": "a92cbbf9",
   "metadata": {},
   "outputs": [],
   "source": [
    "# Other methods: Convert the DataFrame into a list of tuples\n",
    "#records = [tuple(row) for row in countries_df.to_numpy()]\n",
    "\n",
    "# Create the parameterized query\n",
    "#query = \"INSERT INTO countries (country, country_id) VALUES (%s, %s)\"\n",
    "\n",
    "# Execute the bulk insert query with the list of tuples\n",
    "#cursor.executemany(query, records)\n",
    "\n",
    "# Commit the transaction\n",
    "#connection.commit()\n"
   ]
  },
  {
   "cell_type": "code",
   "execution_count": 71,
   "id": "a7e67b2d",
   "metadata": {},
   "outputs": [],
   "source": [
    "# populate data to the department table\n",
    "records = [tuple(row) for row in department_df.values]\n",
    "\n",
    "# Create the parameterized query\n",
    "query = \"INSERT INTO departments (department, department_id) VALUES (%s, %s)\"\n",
    "\n",
    "# Execute the bulk insert query with the list of tuples\n",
    "cursor.executemany(query, records)\n",
    "\n",
    "# Commit the transaction\n",
    "connection.commit()"
   ]
  },
  {
   "cell_type": "code",
   "execution_count": 78,
   "id": "922f477b",
   "metadata": {},
   "outputs": [],
   "source": [
    "# populate data to the products table\n",
    "records = [tuple(row) for row in product.values]\n",
    "\n",
    "# Create the parameterized query\n",
    "query = \"INSERT INTO products (name, price, product_id) VALUES (%s, %s, %s)\"\n",
    "\n",
    "# Execute the bulk insert query with the list of tuples\n",
    "cursor.executemany(query, records)\n",
    "\n",
    "# Commit the transaction\n",
    "connection.commit()\n"
   ]
  },
  {
   "cell_type": "code",
   "execution_count": 83,
   "id": "271d7264",
   "metadata": {},
   "outputs": [],
   "source": [
    "# populate data to the customer table\n",
    "records = [tuple(row) for row in customer.values]\n",
    "\n",
    "# Create the parameterized query\n",
    "query = '''\n",
    "INSERT INTO customers (customer_id, first_name, last_name, full_name, birthday, email, gender, city, street, country_id)\n",
    "VALUES (%s, %s, %s, %s, %s, %s, %s, %s, %s, %s)\n",
    "'''\n",
    "\n",
    "# Execute the bulk insert query with the list of tuples\n",
    "cursor.executemany(query, records)\n",
    "\n",
    "# Commit the transaction\n",
    "connection.commit()\n"
   ]
  },
  {
   "cell_type": "code",
   "execution_count": 84,
   "id": "f1383ec5",
   "metadata": {},
   "outputs": [
    {
     "data": {
      "text/html": [
       "<div>\n",
       "<style scoped>\n",
       "    .dataframe tbody tr th:only-of-type {\n",
       "        vertical-align: middle;\n",
       "    }\n",
       "\n",
       "    .dataframe tbody tr th {\n",
       "        vertical-align: top;\n",
       "    }\n",
       "\n",
       "    .dataframe thead th {\n",
       "        text-align: right;\n",
       "    }\n",
       "</style>\n",
       "<table border=\"1\" class=\"dataframe\">\n",
       "  <thead>\n",
       "    <tr style=\"text-align: right;\">\n",
       "      <th></th>\n",
       "      <th>employee_id</th>\n",
       "      <th>first_name</th>\n",
       "      <th>last_name</th>\n",
       "      <th>full_name</th>\n",
       "      <th>birthday</th>\n",
       "      <th>email</th>\n",
       "      <th>employee_phone_number</th>\n",
       "      <th>gender</th>\n",
       "      <th>marital_status</th>\n",
       "      <th>salary</th>\n",
       "      <th>hire_date</th>\n",
       "      <th>department_id</th>\n",
       "    </tr>\n",
       "  </thead>\n",
       "  <tbody>\n",
       "    <tr>\n",
       "      <th>0</th>\n",
       "      <td>560826</td>\n",
       "      <td>Cathy</td>\n",
       "      <td>Webb</td>\n",
       "      <td>Cathy Webb</td>\n",
       "      <td>1993-05-10</td>\n",
       "      <td>cathyw@gmail.com</td>\n",
       "      <td>001-714-489-0170x7510</td>\n",
       "      <td>Male</td>\n",
       "      <td>Single</td>\n",
       "      <td>83377</td>\n",
       "      <td>2020-09-17</td>\n",
       "      <td>0</td>\n",
       "    </tr>\n",
       "    <tr>\n",
       "      <th>1</th>\n",
       "      <td>646855</td>\n",
       "      <td>Isabella</td>\n",
       "      <td>Valenzuela</td>\n",
       "      <td>Isabella Valenzuela</td>\n",
       "      <td>1982-12-16</td>\n",
       "      <td>isabellav@gmail.com</td>\n",
       "      <td>(690)730-4104x5519</td>\n",
       "      <td>Female</td>\n",
       "      <td>Single</td>\n",
       "      <td>79692</td>\n",
       "      <td>2023-04-28</td>\n",
       "      <td>1</td>\n",
       "    </tr>\n",
       "    <tr>\n",
       "      <th>2</th>\n",
       "      <td>832469</td>\n",
       "      <td>Margaret</td>\n",
       "      <td>Dennis</td>\n",
       "      <td>Margaret Dennis</td>\n",
       "      <td>1980-07-21</td>\n",
       "      <td>margaretd@gmail.com</td>\n",
       "      <td>(597)862-0752x72930</td>\n",
       "      <td>Female</td>\n",
       "      <td>Single</td>\n",
       "      <td>50927</td>\n",
       "      <td>2021-12-06</td>\n",
       "      <td>0</td>\n",
       "    </tr>\n",
       "    <tr>\n",
       "      <th>3</th>\n",
       "      <td>298776</td>\n",
       "      <td>William</td>\n",
       "      <td>Graham</td>\n",
       "      <td>William Graham</td>\n",
       "      <td>1991-08-10</td>\n",
       "      <td>williamg@gmail.com</td>\n",
       "      <td>(226)371-9683x9613</td>\n",
       "      <td>Male</td>\n",
       "      <td>Married</td>\n",
       "      <td>62134</td>\n",
       "      <td>2021-08-31</td>\n",
       "      <td>0</td>\n",
       "    </tr>\n",
       "    <tr>\n",
       "      <th>4</th>\n",
       "      <td>68629</td>\n",
       "      <td>Mark</td>\n",
       "      <td>Wood</td>\n",
       "      <td>Mark Wood</td>\n",
       "      <td>1973-11-24</td>\n",
       "      <td>markw@gmail.com</td>\n",
       "      <td>384-599-2390x497</td>\n",
       "      <td>Male</td>\n",
       "      <td>Married</td>\n",
       "      <td>41483</td>\n",
       "      <td>2021-06-02</td>\n",
       "      <td>1</td>\n",
       "    </tr>\n",
       "  </tbody>\n",
       "</table>\n",
       "</div>"
      ],
      "text/plain": [
       "   employee_id first_name   last_name            full_name    birthday  \\\n",
       "0       560826      Cathy        Webb           Cathy Webb  1993-05-10   \n",
       "1       646855   Isabella  Valenzuela  Isabella Valenzuela  1982-12-16   \n",
       "2       832469   Margaret      Dennis      Margaret Dennis  1980-07-21   \n",
       "3       298776    William      Graham       William Graham  1991-08-10   \n",
       "4        68629       Mark        Wood            Mark Wood  1973-11-24   \n",
       "\n",
       "                 email  employee_phone_number  gender marital_status  salary  \\\n",
       "0     cathyw@gmail.com  001-714-489-0170x7510    Male         Single   83377   \n",
       "1  isabellav@gmail.com     (690)730-4104x5519  Female         Single   79692   \n",
       "2  margaretd@gmail.com    (597)862-0752x72930  Female         Single   50927   \n",
       "3   williamg@gmail.com     (226)371-9683x9613    Male        Married   62134   \n",
       "4      markw@gmail.com       384-599-2390x497    Male        Married   41483   \n",
       "\n",
       "    hire_date  department_id  \n",
       "0  2020-09-17              0  \n",
       "1  2023-04-28              1  \n",
       "2  2021-12-06              0  \n",
       "3  2021-08-31              0  \n",
       "4  2021-06-02              1  "
      ]
     },
     "execution_count": 84,
     "metadata": {},
     "output_type": "execute_result"
    }
   ],
   "source": [
    "employee.head()"
   ]
  },
  {
   "cell_type": "code",
   "execution_count": 85,
   "id": "359f54e7",
   "metadata": {},
   "outputs": [],
   "source": [
    "# populate data to the employee table\n",
    "records = [tuple(row) for row in employee.values]\n",
    "\n",
    "# Create the parameterized query\n",
    "query = '''\n",
    "INSERT INTO employees (employee_id, first_name, last_name, full_name, birthday, email, employee_phone_number, gender, marital_status, salary, hire_date, department_id)\n",
    "VALUES (%s, %s, %s, %s, %s, %s, %s, %s, %s, %s, %s, %s)\n",
    "'''\n",
    "\n",
    "# Execute the bulk insert query with the list of tuples\n",
    "cursor.executemany(query, records)\n",
    "\n",
    "# Commit the transaction\n",
    "connection.commit()\n"
   ]
  },
  {
   "cell_type": "code",
   "execution_count": 86,
   "id": "d9d0d482",
   "metadata": {},
   "outputs": [
    {
     "data": {
      "text/html": [
       "<div>\n",
       "<style scoped>\n",
       "    .dataframe tbody tr th:only-of-type {\n",
       "        vertical-align: middle;\n",
       "    }\n",
       "\n",
       "    .dataframe tbody tr th {\n",
       "        vertical-align: top;\n",
       "    }\n",
       "\n",
       "    .dataframe thead th {\n",
       "        text-align: right;\n",
       "    }\n",
       "</style>\n",
       "<table border=\"1\" class=\"dataframe\">\n",
       "  <thead>\n",
       "    <tr style=\"text-align: right;\">\n",
       "      <th></th>\n",
       "      <th>payment_id</th>\n",
       "      <th>payment_date</th>\n",
       "      <th>customer_id</th>\n",
       "      <th>employee_id</th>\n",
       "      <th>product_id</th>\n",
       "      <th>price</th>\n",
       "    </tr>\n",
       "  </thead>\n",
       "  <tbody>\n",
       "    <tr>\n",
       "      <th>0</th>\n",
       "      <td>389032931</td>\n",
       "      <td>2023-03-23</td>\n",
       "      <td>8946605</td>\n",
       "      <td>511819</td>\n",
       "      <td>1VA01927XT</td>\n",
       "      <td>695000.0</td>\n",
       "    </tr>\n",
       "    <tr>\n",
       "      <th>1</th>\n",
       "      <td>139073443</td>\n",
       "      <td>2022-10-06</td>\n",
       "      <td>3082219</td>\n",
       "      <td>811126</td>\n",
       "      <td>1VA02121XT</td>\n",
       "      <td>850000.0</td>\n",
       "    </tr>\n",
       "    <tr>\n",
       "      <th>2</th>\n",
       "      <td>957908613</td>\n",
       "      <td>2021-08-03</td>\n",
       "      <td>3016036</td>\n",
       "      <td>452330</td>\n",
       "      <td>1VA01855TI</td>\n",
       "      <td>695000.0</td>\n",
       "    </tr>\n",
       "    <tr>\n",
       "      <th>3</th>\n",
       "      <td>918427211</td>\n",
       "      <td>2023-03-16</td>\n",
       "      <td>2669326</td>\n",
       "      <td>147602</td>\n",
       "      <td>1VA01837D</td>\n",
       "      <td>750000.0</td>\n",
       "    </tr>\n",
       "    <tr>\n",
       "      <th>4</th>\n",
       "      <td>268262738</td>\n",
       "      <td>2022-03-09</td>\n",
       "      <td>7284948</td>\n",
       "      <td>242020</td>\n",
       "      <td>1VA02038HO</td>\n",
       "      <td>850000.0</td>\n",
       "    </tr>\n",
       "  </tbody>\n",
       "</table>\n",
       "</div>"
      ],
      "text/plain": [
       "   payment_id payment_date  customer_id  employee_id  product_id     price\n",
       "0   389032931   2023-03-23      8946605       511819  1VA01927XT  695000.0\n",
       "1   139073443   2022-10-06      3082219       811126  1VA02121XT  850000.0\n",
       "2   957908613   2021-08-03      3016036       452330  1VA01855TI  695000.0\n",
       "3   918427211   2023-03-16      2669326       147602   1VA01837D  750000.0\n",
       "4   268262738   2022-03-09      7284948       242020  1VA02038HO  850000.0"
      ]
     },
     "execution_count": 86,
     "metadata": {},
     "output_type": "execute_result"
    }
   ],
   "source": [
    "payment.head()"
   ]
  },
  {
   "cell_type": "code",
   "execution_count": 89,
   "id": "5ca3785f",
   "metadata": {},
   "outputs": [],
   "source": [
    "# populate data to the payments table\n",
    "records = [tuple(row) for row in payment.values]\n",
    "\n",
    "# Create the parameterized query\n",
    "query = '''\n",
    "INSERT INTO payments (payment_id, date, customer_id, employee_id, product_id, price)\n",
    "VALUES (%s, %s, %s, %s, %s, %s)\n",
    "'''\n",
    "\n",
    "# Execute the bulk insert query with the list of tuples\n",
    "cursor.executemany(query, records)\n",
    "\n",
    "# Commit the transaction\n",
    "connection.commit()"
   ]
  }
 ],
 "metadata": {
  "kernelspec": {
   "display_name": "Python 3 (ipykernel)",
   "language": "python",
   "name": "python3"
  },
  "language_info": {
   "codemirror_mode": {
    "name": "ipython",
    "version": 3
   },
   "file_extension": ".py",
   "mimetype": "text/x-python",
   "name": "python",
   "nbconvert_exporter": "python",
   "pygments_lexer": "ipython3",
   "version": "3.10.9"
  }
 },
 "nbformat": 4,
 "nbformat_minor": 5
}
