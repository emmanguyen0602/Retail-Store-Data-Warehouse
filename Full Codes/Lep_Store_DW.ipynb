{
 "cells": [
  {
   "cell_type": "markdown",
   "id": "e2f5a722",
   "metadata": {},
   "source": [
    "## Creating the Data Warehouse in a different schema"
   ]
  },
  {
   "cell_type": "code",
   "execution_count": 2,
   "id": "a5098e4c",
   "metadata": {},
   "outputs": [],
   "source": [
    "import pymysql"
   ]
  },
  {
   "cell_type": "code",
   "execution_count": 3,
   "id": "1c688184",
   "metadata": {},
   "outputs": [],
   "source": [
    "# Connecting to MySQL schema: lep_shop\n",
    "connection = pymysql.connect(host ='localhost',\n",
    "                             port=int(3306),\n",
    "                             user='root',passwd='12345678')\n",
    "# Creating a Cursor object\n",
    "cursor = connection.cursor()"
   ]
  },
  {
   "cell_type": "code",
   "execution_count": 4,
   "id": "5bb8e104",
   "metadata": {},
   "outputs": [
    {
     "data": {
      "text/plain": [
       "0"
      ]
     },
     "execution_count": 4,
     "metadata": {},
     "output_type": "execute_result"
    }
   ],
   "source": [
    "# Create a new schema called lep_store_dw\n",
    "cursor.execute('''\n",
    "drop schema if exists lep_store_dw;\n",
    "''')\n",
    "\n",
    "cursor.execute('''\n",
    "create schema lep_store_dw;\n",
    "''')\n",
    "\n",
    "# Use the new schema\n",
    "cursor.execute('''\n",
    "use lep_store_dw;\n",
    "''')"
   ]
  },
  {
   "cell_type": "markdown",
   "id": "74e8544e",
   "metadata": {},
   "source": [
    "## Generating the Date Dimension"
   ]
  },
  {
   "cell_type": "code",
   "execution_count": 6,
   "id": "f8b29fe4",
   "metadata": {},
   "outputs": [],
   "source": [
    "import numpy as np\n",
    "import pandas as pd"
   ]
  },
  {
   "cell_type": "code",
   "execution_count": 13,
   "id": "e8539f0e",
   "metadata": {},
   "outputs": [],
   "source": [
    "# Create dates\n",
    "start_date = pd.to_datetime('2020-07-07').date()\n",
    "end_date = pd.to_datetime('2100-01-01').date()\n",
    "\n",
    "# Get all the dates from 2020-07-07 to 2100-01-01\n",
    "dates = pd.date_range(start=start_date, end=end_date, freq='D')\n",
    "\n",
    "# Insert into a dataframe\n",
    "dates_df = pd.DataFrame(dates, columns=['Date'])"
   ]
  },
  {
   "cell_type": "code",
   "execution_count": 30,
   "id": "66ee4c6f",
   "metadata": {},
   "outputs": [],
   "source": [
    "# Date Key Column\n",
    "dates_df['Date_key'] = (\n",
    "    dates_df.Date.dt.year.astype(str) +\n",
    "    dates_df.Date.dt.month.map(\"{:02d}\".format) +\n",
    "    dates_df.Date.dt.day.map(\"{:02d}\".format)\n",
    ")\n",
    "\n",
    "# Day_name Column\n",
    "dates_df['Day_name'] = dates.day_name()\n",
    "\n",
    "# Month Column\n",
    "month_dict = {1:'Jan',2:'Feb',3:'Mar',4:'Apr',\n",
    "             5:'May',6:'Jun',7:'Jul',8:'Aug',9:'Sep',10:'Oct',\n",
    "             11:'Nov',12:'Dec'}\n",
    "dates_df['Month'] = dates_df.Date.dt.month\n",
    "dates_df.Month.replace(month_dict,inplace=True)\n",
    "\n",
    "# Year Column\n",
    "dates_df['Year'] = dates_df.Date.dt.year"
   ]
  },
  {
   "cell_type": "code",
   "execution_count": 41,
   "id": "453d870b",
   "metadata": {},
   "outputs": [
    {
     "data": {
      "text/html": [
       "<div>\n",
       "<style scoped>\n",
       "    .dataframe tbody tr th:only-of-type {\n",
       "        vertical-align: middle;\n",
       "    }\n",
       "\n",
       "    .dataframe tbody tr th {\n",
       "        vertical-align: top;\n",
       "    }\n",
       "\n",
       "    .dataframe thead th {\n",
       "        text-align: right;\n",
       "    }\n",
       "</style>\n",
       "<table border=\"1\" class=\"dataframe\">\n",
       "  <thead>\n",
       "    <tr style=\"text-align: right;\">\n",
       "      <th></th>\n",
       "      <th>Date</th>\n",
       "      <th>Date_key</th>\n",
       "      <th>Day_name</th>\n",
       "      <th>Month</th>\n",
       "      <th>Year</th>\n",
       "    </tr>\n",
       "  </thead>\n",
       "  <tbody>\n",
       "  </tbody>\n",
       "</table>\n",
       "</div>"
      ],
      "text/plain": [
       "Empty DataFrame\n",
       "Columns: [Date, Date_key, Day_name, Month, Year]\n",
       "Index: []"
      ]
     },
     "execution_count": 41,
     "metadata": {},
     "output_type": "execute_result"
    }
   ],
   "source": [
    "dates_df[dates_df['Date_key'].duplicated()]"
   ]
  },
  {
   "cell_type": "code",
   "execution_count": 33,
   "id": "82211326",
   "metadata": {},
   "outputs": [
    {
     "data": {
      "text/plain": [
       "29033"
      ]
     },
     "execution_count": 33,
     "metadata": {},
     "output_type": "execute_result"
    }
   ],
   "source": [
    "len(dates_df.Date_key.unique())"
   ]
  },
  {
   "cell_type": "code",
   "execution_count": 24,
   "id": "d7c542eb",
   "metadata": {},
   "outputs": [
    {
     "data": {
      "text/plain": [
       "29033"
      ]
     },
     "execution_count": 24,
     "metadata": {},
     "output_type": "execute_result"
    }
   ],
   "source": [
    "len(dates_df.Date)"
   ]
  },
  {
   "cell_type": "code",
   "execution_count": 43,
   "id": "3fe5d48d",
   "metadata": {},
   "outputs": [
    {
     "data": {
      "text/plain": [
       "Date        datetime64[ns]\n",
       "Date_key            object\n",
       "Day_name            object\n",
       "Month               object\n",
       "Year                 int64\n",
       "dtype: object"
      ]
     },
     "execution_count": 43,
     "metadata": {},
     "output_type": "execute_result"
    }
   ],
   "source": [
    "dates_df.dtypes"
   ]
  },
  {
   "cell_type": "markdown",
   "id": "5a153587",
   "metadata": {},
   "source": [
    "### Loading the Date Dimension to MySQL"
   ]
  },
  {
   "cell_type": "code",
   "execution_count": 44,
   "id": "a945abff",
   "metadata": {},
   "outputs": [
    {
     "data": {
      "text/plain": [
       "0"
      ]
     },
     "execution_count": 44,
     "metadata": {},
     "output_type": "execute_result"
    }
   ],
   "source": [
    "query = '''\n",
    "drop table if exists lep_dwh_date;\n",
    "'''\n",
    "\n",
    "cursor.execute(query)\n",
    "\n",
    "query = '''\n",
    "CREATE TABLE lep_dwh_date (\n",
    "    Date_key VARCHAR(50) NOT NULL PRIMARY KEY,\n",
    "    Dates DATE NOT NULL,\n",
    "    Day_name VARCHAR(50) NOT NULL,\n",
    "    Month_name VARCHAR(50) NOT NULL,\n",
    "    Year_name INT NOT NULL\n",
    ");\n",
    "'''\n",
    "\n",
    "cursor.execute(query)"
   ]
  },
  {
   "cell_type": "code",
   "execution_count": 46,
   "id": "676d8a44",
   "metadata": {},
   "outputs": [],
   "source": [
    "# populate data to the dates_df table\n",
    "records = [tuple(row) for row in dates_df.values]\n",
    "\n",
    "# Create the parameterized query\n",
    "query = \"INSERT INTO lep_dwh_date (Dates, Date_key, Day_name, Month_name, Year_name) VALUES (%s, %s, %s, %s, %s)\"\n",
    "\n",
    "# Execute the bulk insert query with the list of tuples\n",
    "cursor.executemany(query, records)\n",
    "\n",
    "# Commit the transaction\n",
    "connection.commit()"
   ]
  },
  {
   "cell_type": "markdown",
   "id": "3ec72545",
   "metadata": {},
   "source": [
    "## Generating the Customers Dimension"
   ]
  },
  {
   "cell_type": "code",
   "execution_count": 47,
   "id": "e86117ff",
   "metadata": {},
   "outputs": [],
   "source": [
    "# Drop the dwh_customers table if it exists\n",
    "cursor.execute(\"DROP TABLE IF EXISTS lep_dwh_customers;\")\n",
    "\n",
    "# Create the dwh_customers table\n",
    "cursor.execute(\"\"\"\n",
    "    CREATE TABLE lep_dwh_customers AS\n",
    "    SELECT \n",
    "        c1.customer_id,\n",
    "        c1.first_name,\n",
    "        c1.last_name,\n",
    "        c1.full_name,\n",
    "        c2.country_id\n",
    "    FROM lep_store.customers AS c1\n",
    "    JOIN lep_store.countries AS c2 ON c1.country_id = c2.country_id\n",
    "    ORDER BY customer_id;\n",
    "\"\"\")\n",
    "\n",
    "# Set customer_id as the primary key\n",
    "cursor.execute(\"ALTER TABLE lep_dwh_customers MODIFY COLUMN customer_id INT NOT NULL PRIMARY KEY;\")\n",
    "\n",
    "# Commit the changes and close the connection\n",
    "connection.commit()\n"
   ]
  },
  {
   "cell_type": "markdown",
   "id": "306c439b",
   "metadata": {},
   "source": [
    "## Generating the Employees Dimension"
   ]
  },
  {
   "cell_type": "code",
   "execution_count": 48,
   "id": "877d6803",
   "metadata": {},
   "outputs": [],
   "source": [
    "# Drop the table if it exists\n",
    "cursor.execute(\"DROP TABLE IF EXISTS lep_dwh_employees;\")\n",
    "\n",
    "# Create the dwh_employees table\n",
    "cursor.execute(\"\"\"\n",
    "    CREATE TABLE lep_dwh_employees AS\n",
    "    SELECT \n",
    "        e.employee_id,\n",
    "        e.first_name,\n",
    "        e.last_name,\n",
    "        e.full_name,\n",
    "        d.department\n",
    "    FROM lep_store.employees AS e\n",
    "    JOIN lep_store.departments AS d ON e.department_id = d.department_id\n",
    "    ORDER BY employee_id;\n",
    "\"\"\")\n",
    "\n",
    "# Set employee_id as the primary key\n",
    "cursor.execute(\"ALTER TABLE lep_dwh_employees MODIFY COLUMN employee_id INT NOT NULL PRIMARY KEY;\")\n",
    "\n",
    "# Commit the changes and close the connection\n",
    "connection.commit()"
   ]
  },
  {
   "cell_type": "markdown",
   "id": "cd508dca",
   "metadata": {},
   "source": [
    "## Generating the Products Dimension"
   ]
  },
  {
   "cell_type": "code",
   "execution_count": 49,
   "id": "d846bed5",
   "metadata": {},
   "outputs": [],
   "source": [
    "# Drop the table if it exists\n",
    "cursor.execute(\"DROP TABLE IF EXISTS lep_dwh_products;\")\n",
    "\n",
    "# Create the dwh_employees table\n",
    "cursor.execute(\"\"\"\n",
    "    CREATE TABLE lep_dwh_products AS\n",
    "    SELECT *\n",
    "    FROM lep_store.products\n",
    "    ORDER BY product_id;\n",
    "\"\"\")\n",
    "\n",
    "# Set product_id as the primary key\n",
    "cursor.execute(\"ALTER TABLE lep_dwh_products MODIFY COLUMN product_id VARCHAR(100) NOT NULL PRIMARY KEY;\")\n",
    "\n",
    "# Commit the changes and close the connection\n",
    "connection.commit()"
   ]
  },
  {
   "cell_type": "markdown",
   "id": "7087a878",
   "metadata": {},
   "source": [
    "## Generate Fact table"
   ]
  },
  {
   "cell_type": "code",
   "execution_count": 50,
   "id": "5c419842",
   "metadata": {},
   "outputs": [],
   "source": [
    "# Drop table if exists\n",
    "cursor.execute(\"DROP TABLE IF EXISTS lep_dwh_fact;\")\n",
    "\n",
    "# Create a new fact table\n",
    "query = \"\"\"\n",
    "CREATE TABLE lep_dwh_fact AS \n",
    "SELECT c1.customer_id,\n",
    "    e1.employee_id,\n",
    "    p2.product_id,\n",
    "    p2.price,\n",
    "    p2.name,\n",
    "    c2.country,\n",
    "    d.Date_key,\n",
    "    p1.date \n",
    "FROM\n",
    "    lep_store.payments AS p1\n",
    "        JOIN\n",
    "    lep_store.customers AS c1 ON p1.customer_id = c1.customer_id\n",
    "        JOIN\n",
    "    lep_store.employees AS e1 ON p1.employee_id = e1.employee_id\n",
    "        JOIN\n",
    "    lep_store.products AS p2 ON p1.product_id = p2.product_id\n",
    "        JOIN\n",
    "    lep_store.countries AS c2 ON c1.country_id = c2.country_id\n",
    "        JOIN\n",
    "    lep_dwh_date AS d ON p1.date = d.Dates\n",
    "ORDER BY d.Dates;\n",
    "\"\"\"\n",
    "cursor.execute(query)\n",
    "\n",
    "# Setting the foreign keys for each dimension table\n",
    "alter_table_queries = [\n",
    "    \"ALTER TABLE lep_dwh_fact ADD FOREIGN KEY (customer_id) REFERENCES lep_dwh_customers (customer_id);\",\n",
    "    \"ALTER TABLE lep_dwh_fact ADD FOREIGN KEY (employee_id) REFERENCES lep_dwh_employees (employee_id);\",\n",
    "    \"ALTER TABLE lep_dwh_fact ADD FOREIGN KEY (product_id) REFERENCES lep_dwh_products (product_id);\",\n",
    "    \"ALTER TABLE lep_dwh_fact ADD FOREIGN KEY (Date_key) REFERENCES lep_dwh_date (Date_key);\"\n",
    "]\n",
    "\n",
    "for alter_query in alter_table_queries:\n",
    "    cursor.execute(alter_query)\n",
    "\n",
    "# Commit the changes and close the cursor and connection\n",
    "connection.commit()"
   ]
  },
  {
   "cell_type": "markdown",
   "id": "5b834042",
   "metadata": {},
   "source": [
    "## Create Triggers for Automating the Transfer of Data"
   ]
  },
  {
   "cell_type": "markdown",
   "id": "ee86d786",
   "metadata": {},
   "source": [
    "Create various triggers that will load data from the central database into the Data Warehouse and sync the database and the Data Warehouse when certain situations occur in the organization."
   ]
  },
  {
   "cell_type": "markdown",
   "id": "c5432c32",
   "metadata": {},
   "source": [
    "**Trigger 1. insert_customer**"
   ]
  },
  {
   "cell_type": "code",
   "execution_count": 58,
   "id": "03fd1e99",
   "metadata": {},
   "outputs": [],
   "source": [
    "# Use the lep_store database\n",
    "cursor.execute('''\n",
    "use lep_store;\n",
    "''')\n",
    "# Create the trigger\n",
    "create_trigger_query = \"\"\"\n",
    "CREATE TRIGGER insert_customer\n",
    "AFTER INSERT ON lep_store.customers\n",
    "FOR EACH ROW\n",
    "INSERT INTO lep_store_dw.lep_dwh_customers\n",
    "SELECT \n",
    "    c1.customer_id,\n",
    "    c1.first_name,\n",
    "    c1.last_name,\n",
    "    c1.full_name,\n",
    "    c2.country_id\n",
    "FROM customers AS c1\n",
    "JOIN countries AS c2 ON c1.country_id = c2.country_id\n",
    "WHERE c1.customer_id = new.customer_id;\n",
    "\"\"\"\n",
    "\n",
    "cursor.execute(create_trigger_query)\n",
    "\n",
    "# Commit the changes and close the cursor and connection\n",
    "connection.commit()"
   ]
  },
  {
   "cell_type": "code",
   "execution_count": 59,
   "id": "ce0d9d74",
   "metadata": {},
   "outputs": [],
   "source": [
    "# Insert a new value into the customers table\n",
    "insert_query = \"\"\"\n",
    "INSERT INTO customers (customer_id, first_name, last_name, full_name, birthday, email, gender, city, street, country_id)\n",
    "VALUES (1, 'John', 'Doe', 'John Doe', '1990-01-01', 'johndoe@example.com', 'Male', 'New York', '123 Main St', 1)\n",
    "\"\"\"\n",
    "\n",
    "# Execute the insert query\n",
    "cursor.execute(insert_query)\n",
    "\n",
    "# Commit the changes\n",
    "connection.commit()"
   ]
  },
  {
   "cell_type": "markdown",
   "id": "b947aa86",
   "metadata": {},
   "source": [
    "**Check new customer in the central database**"
   ]
  },
  {
   "cell_type": "code",
   "execution_count": 60,
   "id": "c21e03d3",
   "metadata": {},
   "outputs": [
    {
     "name": "stdout",
     "output_type": "stream",
     "text": [
      "New customer found:\n",
      "(1, 'John', 'Doe', 'John Doe', datetime.date(1990, 1, 1), 'johndoe@example.com', 'Male', 'New York', '123 Main St', 1)\n"
     ]
    }
   ],
   "source": [
    "# Check the new customer in the central database\n",
    "customer_id = 1  # Assuming customer_id is 1 for the new customer\n",
    "select_query = f\"SELECT * FROM customers WHERE customer_id = {customer_id}\"\n",
    "\n",
    "# Execute the select query\n",
    "cursor.execute(select_query)\n",
    "\n",
    "# Fetch the result\n",
    "result = cursor.fetchone()\n",
    "\n",
    "if result:\n",
    "    print(\"New customer found:\")\n",
    "    print(result)\n",
    "else:\n",
    "    print(\"New customer not found.\")"
   ]
  },
  {
   "cell_type": "markdown",
   "id": "9af6b58b",
   "metadata": {},
   "source": [
    "**Check new customer in the data warehouse**"
   ]
  },
  {
   "cell_type": "code",
   "execution_count": 64,
   "id": "d36c2896",
   "metadata": {},
   "outputs": [
    {
     "name": "stdout",
     "output_type": "stream",
     "text": [
      "New customer found in the data warehouse:\n",
      "(1, 'John', 'Doe', 'John Doe', 1)\n"
     ]
    }
   ],
   "source": [
    "#use the data warehouse  \n",
    "cursor.execute('''\n",
    "use lep_store_dw;\n",
    "''')\n",
    "# Check the new customer in the data warehouse\n",
    "customer_id = 1  # Assuming customer_id is 1 for the new customer\n",
    "select_query = f\"SELECT * FROM lep_store_dw.lep_dwh_customers WHERE customer_id = {customer_id}\"\n",
    "\n",
    "# Execute the select query\n",
    "cursor.execute(select_query)\n",
    "\n",
    "# Fetch the result\n",
    "result = cursor.fetchone()\n",
    "\n",
    "if result:\n",
    "    print(\"New customer found in the data warehouse:\")\n",
    "    print(result)\n",
    "else:\n",
    "    print(\"New customer not found in the data warehouse.\")"
   ]
  },
  {
   "cell_type": "markdown",
   "id": "2eab61a4",
   "metadata": {},
   "source": [
    "**Trigger 2. insert_employee**"
   ]
  },
  {
   "cell_type": "code",
   "execution_count": 65,
   "id": "6f817a37",
   "metadata": {},
   "outputs": [],
   "source": [
    "# Use the lep_store database\n",
    "cursor.execute('''\n",
    "use lep_store;\n",
    "''')\n",
    "# Create the trigger\n",
    "\n",
    "create_trigger_query = \"\"\"\n",
    "CREATE TRIGGER insert_employee\n",
    "AFTER INSERT ON lep_store.employees\n",
    "FOR EACH ROW\n",
    "INSERT INTO lep_store_dw.lep_dwh_employees\n",
    "SELECT \n",
    "    e.employee_id,\n",
    "    e.first_name,\n",
    "    e.last_name,\n",
    "    e.full_name,\n",
    "    d.department\n",
    "FROM employees AS e\n",
    "JOIN departments AS d ON e.department_id = d.department_id\n",
    "WHERE e.employee_id = NEW.employee_id;\n",
    "\"\"\"\n",
    "\n",
    "# Execute the create trigger query\n",
    "cursor.execute(create_trigger_query)\n",
    "\n",
    "# Commit the changes\n",
    "connection.commit()"
   ]
  },
  {
   "cell_type": "code",
   "execution_count": 66,
   "id": "b5a76044",
   "metadata": {},
   "outputs": [],
   "source": [
    "# Insert a new value into the employees table\n",
    "insert_query = \"\"\"\n",
    "INSERT INTO employees (employee_id, first_name, last_name, full_name, email, birthday, \n",
    "                      employee_phone_number, gender, department_id, marital_status, salary, hire_date)\n",
    "VALUES (1, 'John', 'Joe', 'John Joe', 'johne@example.com', '1999-01-01', '0326963733',\n",
    "        'Male', 1, 'Single', 5000, '2022-01-01');\n",
    "\"\"\"\n",
    "\n",
    "# Execute the insert query\n",
    "cursor.execute(insert_query)\n",
    "\n",
    "# Commit the changes\n",
    "connection.commit()"
   ]
  },
  {
   "cell_type": "markdown",
   "id": "dbd6b4ee",
   "metadata": {},
   "source": [
    "**Check new employee in the central database**"
   ]
  },
  {
   "cell_type": "code",
   "execution_count": 67,
   "id": "ec42b70b",
   "metadata": {},
   "outputs": [
    {
     "name": "stdout",
     "output_type": "stream",
     "text": [
      "New employee found:\n",
      "(1, 'John', 'Joe', 'John Joe', 'johne@example.com', datetime.date(1999, 1, 1), '0326963733', 'Male', 1, 'Single', 5000, datetime.date(2022, 1, 1))\n"
     ]
    }
   ],
   "source": [
    "# Check the new customer in the central database\n",
    "employee_id = 1  # Assuming customer_id is 1 for the new customer\n",
    "select_query = f\"SELECT * FROM employees WHERE employee_id = {employee_id}\"\n",
    "\n",
    "# Execute the select query\n",
    "cursor.execute(select_query)\n",
    "\n",
    "# Fetch the result\n",
    "result = cursor.fetchone()\n",
    "\n",
    "if result:\n",
    "    print(\"New employee found:\")\n",
    "    print(result)\n",
    "else:\n",
    "    print(\"New employee not found.\")"
   ]
  },
  {
   "cell_type": "markdown",
   "id": "6b6a9e6e",
   "metadata": {},
   "source": [
    "**Check new employee in the data warehouse**"
   ]
  },
  {
   "cell_type": "code",
   "execution_count": 68,
   "id": "b92e76f3",
   "metadata": {},
   "outputs": [
    {
     "name": "stdout",
     "output_type": "stream",
     "text": [
      "New employee found in the data warehouse:\n",
      "(1, 'John', 'Joe', 'John Joe', 'IT')\n"
     ]
    }
   ],
   "source": [
    "#use the data warehouse  \n",
    "cursor.execute('''\n",
    "use lep_store_dw;\n",
    "''')\n",
    "# Check the new customer in the data warehouse\n",
    "employee_id = 1  # Assuming customer_id is 1 for the new customer\n",
    "select_query = f\"SELECT * FROM lep_store_dw.lep_dwh_employees WHERE employee_id = {employee_id}\"\n",
    "\n",
    "# Execute the select query\n",
    "cursor.execute(select_query)\n",
    "\n",
    "# Fetch the result\n",
    "result = cursor.fetchone()\n",
    "\n",
    "if result:\n",
    "    print(\"New employee found in the data warehouse:\")\n",
    "    print(result)\n",
    "else:\n",
    "    print(\"New employee not found in the data warehouse.\")"
   ]
  },
  {
   "cell_type": "markdown",
   "id": "338c1fb4",
   "metadata": {},
   "source": [
    "**Trigger 3. new_payment**"
   ]
  },
  {
   "cell_type": "code",
   "execution_count": 69,
   "id": "8ce93e06",
   "metadata": {},
   "outputs": [],
   "source": [
    "# Use the lep_store database\n",
    "cursor.execute('''\n",
    "use lep_store;\n",
    "''')\n",
    "# Create the trigger\n",
    "create_trigger_query = \"\"\"\n",
    "CREATE TRIGGER new_payment\n",
    "AFTER INSERT ON payments\n",
    "FOR EACH ROW\n",
    "INSERT INTO lep_store_dw.lep_dwh_fact\n",
    "SELECT \n",
    "    c.customer_id,\n",
    "    e.employee_id,\n",
    "    pr.product_id,\n",
    "    pr.price,\n",
    "    pr.name,\n",
    "    co.country,\n",
    "    d.Date_key,\n",
    "    d.Dates\n",
    "FROM payments AS p\n",
    "JOIN customers AS c ON p.customer_id = c.customer_id\n",
    "JOIN countries AS co ON c.country_id = co.country_id\n",
    "JOIN employees AS e ON p.employee_id = e.employee_id\n",
    "JOIN products AS pr ON p.product_id = pr.product_id\n",
    "JOIN lep_store_dw.lep_dwh_date AS d ON d.Dates = p.date\n",
    "WHERE p.payment_id = new.payment_id;\n",
    "\"\"\"\n",
    "\n",
    "# Execute the create trigger query\n",
    "cursor.execute(create_trigger_query)\n",
    "\n",
    "# Commit the changes\n",
    "connection.commit()"
   ]
  },
  {
   "cell_type": "code",
   "execution_count": 88,
   "id": "a7d98c5f",
   "metadata": {},
   "outputs": [
    {
     "data": {
      "text/plain": [
       "0"
      ]
     },
     "execution_count": 88,
     "metadata": {},
     "output_type": "execute_result"
    }
   ],
   "source": [
    "cursor.execute('''\n",
    "use lep_store;\n",
    "''')"
   ]
  },
  {
   "cell_type": "code",
   "execution_count": 89,
   "id": "9b1d649d",
   "metadata": {},
   "outputs": [],
   "source": [
    "# Insert a new payment\n",
    "insert_payment_query = \"\"\"\n",
    "INSERT INTO payments(payment_id, date, customer_id, employee_id, product_id, price)\n",
    "VALUES(15825, CURDATE(), 1, 80, '1VA01927XT', 695000)\n",
    "\"\"\"\n",
    "\n",
    "# Execute the insert query\n",
    "cursor.execute(insert_payment_query)\n",
    "\n",
    "# Commit the changes\n",
    "connection.commit()"
   ]
  },
  {
   "cell_type": "markdown",
   "id": "28b3fcbe",
   "metadata": {},
   "source": [
    "**Check new payment in the central database**"
   ]
  },
  {
   "cell_type": "code",
   "execution_count": 90,
   "id": "5c4a242c",
   "metadata": {},
   "outputs": [
    {
     "name": "stdout",
     "output_type": "stream",
     "text": [
      "New payment found:\n",
      "(15825, datetime.date(2023, 7, 8), 1, 80, '1VA01927XT', 695000.0)\n"
     ]
    }
   ],
   "source": [
    "# Check the new customer in the central database\n",
    "payment_id = 15825  # Assuming customer_id is 1 for the new customer\n",
    "select_query = f\"SELECT * FROM payments WHERE payment_id = {payment_id}\"\n",
    "\n",
    "# Execute the select query\n",
    "cursor.execute(select_query)\n",
    "\n",
    "# Fetch the result\n",
    "result = cursor.fetchone()\n",
    "\n",
    "if result:\n",
    "    print(\"New payment found:\")\n",
    "    print(result)\n",
    "else:\n",
    "    print(\"New payment not found.\")"
   ]
  },
  {
   "cell_type": "markdown",
   "id": "4d92c2c1",
   "metadata": {},
   "source": [
    "**Check new employee in the data warehouse**"
   ]
  },
  {
   "cell_type": "code",
   "execution_count": 91,
   "id": "4aee65dc",
   "metadata": {},
   "outputs": [
    {
     "name": "stdout",
     "output_type": "stream",
     "text": [
      "New payment not found in the data warehouse.\n"
     ]
    }
   ],
   "source": [
    "# Use the data warehouse\n",
    "cursor.execute('''\n",
    "USE lep_store_dw;\n",
    "''')\n",
    "\n",
    "# Check the new transaction in the data warehouse\n",
    "customer_id = 1\n",
    "employee_id = 80\n",
    "product_id = '1VA01927XT'\n",
    "select_query = f\"SELECT * FROM lep_dwh_fact WHERE customer_id = {customer_id} AND employee_id = {employee_id} AND product_id = '{product_id}'\"\n",
    "\n",
    "# Execute the select query\n",
    "cursor.execute(select_query)\n",
    "\n",
    "# Fetch the result\n",
    "result = cursor.fetchone()\n",
    "\n",
    "if result:\n",
    "    print(\"New payment found in the data warehouse:\")\n",
    "    print(result)\n",
    "else:\n",
    "    print(\"New payment not found in the data warehouse.\")\n"
   ]
  }
 ],
 "metadata": {
  "kernelspec": {
   "display_name": "Python 3 (ipykernel)",
   "language": "python",
   "name": "python3"
  },
  "language_info": {
   "codemirror_mode": {
    "name": "ipython",
    "version": 3
   },
   "file_extension": ".py",
   "mimetype": "text/x-python",
   "name": "python",
   "nbconvert_exporter": "python",
   "pygments_lexer": "ipython3",
   "version": "3.10.9"
  }
 },
 "nbformat": 4,
 "nbformat_minor": 5
}
